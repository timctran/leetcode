{
 "cells": [
  {
   "cell_type": "markdown",
   "metadata": {},
   "source": [
    "You have a number of envelopes with widths and heights given as a pair of integers `(w, h)`. One envelope can fit into another if and only if both the width and height of one envelope is greater than the width and height of the other envelope.\n",
    "\n",
    "What is the maximum number of envelopes can you Russian doll? (put one inside other)\n",
    "\n",
    "Note:\n",
    "Rotation is not allowed."
   ]
  },
  {
   "cell_type": "markdown",
   "metadata": {},
   "source": [
    "So right off the bat I think I should sort the list. Though perhaps it wouldn't matter. In theory, if we had a table of which envelopes fit inside other envelopes, then we could just recursively iterate and find the answer.\n",
    "\n",
    "After beginning to think about the problem, I decided the direction to proceed is to let DP(i) be the number of maximum number of envelopes involving the ith envelope. Then DP(j) is the maximum over all DP(i) where i < j and `envelopes[j]` contains `envelopes[i]` and 1 (the case where the jth envelope doesn't contain any earlier envelopes)."
   ]
  },
  {
   "cell_type": "code",
   "execution_count": 29,
   "metadata": {},
   "outputs": [],
   "source": [
    "class Solution:\n",
    "    def maxEnvelopes(self, envelopes) -> int:\n",
    "        n = len(envelopes)\n",
    "        envelopes.sort() # O(n*log(n)), n is the length of envelopes\n",
    "        \n",
    "        D = []\n",
    "        for i, (a, b) in enumerate(envelopes):\n",
    "            max_envelope = 1\n",
    "            for j in range(i):\n",
    "                c, d = envelopes[j]\n",
    "                if c < a and d < b:\n",
    "                    max_envelope = max(max_envelope, D[j]+1)\n",
    "            D.append(max_envelope)\n",
    "        # O(n**2)\n",
    "        \n",
    "        # We handle the case when n == 0\n",
    "        D.append(0)\n",
    "        \n",
    "        return max(D)"
   ]
  },
  {
   "cell_type": "markdown",
   "metadata": {},
   "source": [
    "9168 ms (5.08%) and 15.1 MB (20.00%)  \n",
    "Runtime Complexity: O(n\\*\\*2) where `n` is the number of envelopes.  \n",
    "Extra Space Complexity: O(n)\n",
    "\n",
    "One of the main problems of the above is that it makes some unnecessary envelope containment checks. For example if `envelopes[j]` contains `envelopes[i]` and `envelopes[k]` contains `envelopes[j]` then we don't need to check the relationship between `envelopes[i]` and `envelopes[k]`.\n",
    "\n",
    "What we can do instead is create a directed graph and only check containment of a node's children if the parent node is not contained."
   ]
  },
  {
   "cell_type": "code",
   "execution_count": 45,
   "metadata": {},
   "outputs": [],
   "source": [
    "class Solution:\n",
    "    def maxEnvelopes(self, envelopes) -> int:\n",
    "        n = len(envelopes)\n",
    "        envelopes.sort()\n",
    "        \n",
    "        parents = []\n",
    "        node_children = {}\n",
    "        \n",
    "        def is_one_inside_two(envelope1, envelope2, visited):\n",
    "            if envelope1[0] < envelope2[0] and envelope1[1] < envelope2[1]:\n",
    "                node_children.setdefault(envelope2, {}).setdefault(\"children\", []).append(envelope1)\n",
    "                return (node_children[envelope1][\"max\"], True)\n",
    "            else:\n",
    "                res = 0\n",
    "                for child in node_children[envelope1]:\n",
    "                    if child not in visited:\n",
    "                        visited.add(child)\n",
    "                        res = max(res, is_one_inside_two(child, envelope2, visited)[0])\n",
    "                return (res, False)\n",
    "                    \n",
    "        for i, (a, b) in enumerate(envelopes):\n",
    "            max_envelope = 1\n",
    "            new_parents = []\n",
    "            for parent in list(parents):\n",
    "                res, is_contained = is_one_inside_two(parent, (a, b), set())\n",
    "                max_envelope = max(res, max_envelope)\n",
    "                if not is_contained:\n",
    "                    new_parents.append(parent)\n",
    "            new_parents.append((a, b))\n",
    "            parents = new_parents\n",
    "            node_children.setdefault((a, b), {}).setdefault(\"max\", max_envelope)\n",
    "        \n",
    "        return max([node_children[parent][\"max\"] for parent in parents])"
   ]
  },
  {
   "cell_type": "markdown",
   "metadata": {},
   "source": [
    "\n",
    "Worst-case: O(n\\*\\*2)\n",
    "Best-case: O(n)"
   ]
  },
  {
   "cell_type": "code",
   "execution_count": 46,
   "metadata": {},
   "outputs": [],
   "source": [
    "class SolutionTester(Solution):\n",
    "    def test(self):\n",
    "        testcase1 = ([[5,4],[6,4],[6,7],[2,3]], 3)     # Example on LeetCode\n",
    "        \n",
    "        testcase2 = ([], 0)\n",
    "        testcase3 = ([[1,2]], 1)\n",
    "        testcase4 = ([[1,2],[2,1]], 1)\n",
    "        testcase5 = ([[1,2],[1,3]], 1)\n",
    "        testcase6 = ([[2,3],[3,3]], 1)\n",
    "        testcase7 = ([[1,2],[2,3],[2,4],[3,2],[3,3],[3,4]], 3)\n",
    "        testcase8 = ([[1,2],[2,3],[2,4],[3,4],[4,5],[5,6]], 5)\n",
    "        testcase9 = ([[10,10]], 1)\n",
    "        \n",
    "        testcases = [testcase1, testcase2, testcase3,\n",
    "                     testcase4, testcase5, testcase6, \n",
    "                     testcase7, testcase8, testcase9]\n",
    "        \n",
    "        for test_input, expected_output in testcases:\n",
    "            print(\"Input:\", test_input)\n",
    "            sol_output = self.maxEnvelopes(test_input)\n",
    "            print(\"Output:\", sol_output)\n",
    "            print(\"Expected Output:\", expected_output)\n",
    "            assert sol_output == expected_output, \"Testcase failed!\"\n",
    "            print()"
   ]
  },
  {
   "cell_type": "code",
   "execution_count": 47,
   "metadata": {},
   "outputs": [],
   "source": [
    "s = SolutionTester()"
   ]
  },
  {
   "cell_type": "code",
   "execution_count": 48,
   "metadata": {},
   "outputs": [
    {
     "name": "stdout",
     "output_type": "stream",
     "text": [
      "Input: [[5, 4], [6, 4], [6, 7], [2, 3]]\n"
     ]
    },
    {
     "ename": "TypeError",
     "evalue": "'<' not supported between instances of 'str' and 'int'",
     "output_type": "error",
     "traceback": [
      "\u001b[1;31m---------------------------------------------------------------------------\u001b[0m",
      "\u001b[1;31mTypeError\u001b[0m                                 Traceback (most recent call last)",
      "\u001b[1;32m<ipython-input-48-05ffbaa58229>\u001b[0m in \u001b[0;36m<module>\u001b[1;34m\u001b[0m\n\u001b[1;32m----> 1\u001b[1;33m \u001b[0ms\u001b[0m\u001b[1;33m.\u001b[0m\u001b[0mtest\u001b[0m\u001b[1;33m(\u001b[0m\u001b[1;33m)\u001b[0m\u001b[1;33m\u001b[0m\u001b[1;33m\u001b[0m\u001b[0m\n\u001b[0m",
      "\u001b[1;32m<ipython-input-46-482178350307>\u001b[0m in \u001b[0;36mtest\u001b[1;34m(self)\u001b[0m\n\u001b[0;32m     18\u001b[0m         \u001b[1;32mfor\u001b[0m \u001b[0mtest_input\u001b[0m\u001b[1;33m,\u001b[0m \u001b[0mexpected_output\u001b[0m \u001b[1;32min\u001b[0m \u001b[0mtestcases\u001b[0m\u001b[1;33m:\u001b[0m\u001b[1;33m\u001b[0m\u001b[1;33m\u001b[0m\u001b[0m\n\u001b[0;32m     19\u001b[0m             \u001b[0mprint\u001b[0m\u001b[1;33m(\u001b[0m\u001b[1;34m\"Input:\"\u001b[0m\u001b[1;33m,\u001b[0m \u001b[0mtest_input\u001b[0m\u001b[1;33m)\u001b[0m\u001b[1;33m\u001b[0m\u001b[1;33m\u001b[0m\u001b[0m\n\u001b[1;32m---> 20\u001b[1;33m             \u001b[0msol_output\u001b[0m \u001b[1;33m=\u001b[0m \u001b[0mself\u001b[0m\u001b[1;33m.\u001b[0m\u001b[0mmaxEnvelopes\u001b[0m\u001b[1;33m(\u001b[0m\u001b[0mtest_input\u001b[0m\u001b[1;33m)\u001b[0m\u001b[1;33m\u001b[0m\u001b[1;33m\u001b[0m\u001b[0m\n\u001b[0m\u001b[0;32m     21\u001b[0m             \u001b[0mprint\u001b[0m\u001b[1;33m(\u001b[0m\u001b[1;34m\"Output:\"\u001b[0m\u001b[1;33m,\u001b[0m \u001b[0msol_output\u001b[0m\u001b[1;33m)\u001b[0m\u001b[1;33m\u001b[0m\u001b[1;33m\u001b[0m\u001b[0m\n\u001b[0;32m     22\u001b[0m             \u001b[0mprint\u001b[0m\u001b[1;33m(\u001b[0m\u001b[1;34m\"Expected Output:\"\u001b[0m\u001b[1;33m,\u001b[0m \u001b[0mexpected_output\u001b[0m\u001b[1;33m)\u001b[0m\u001b[1;33m\u001b[0m\u001b[1;33m\u001b[0m\u001b[0m\n",
      "\u001b[1;32m<ipython-input-45-5f458f232e25>\u001b[0m in \u001b[0;36mmaxEnvelopes\u001b[1;34m(self, envelopes)\u001b[0m\n\u001b[0;32m     23\u001b[0m             \u001b[0mnew_parents\u001b[0m \u001b[1;33m=\u001b[0m \u001b[1;33m[\u001b[0m\u001b[1;33m]\u001b[0m\u001b[1;33m\u001b[0m\u001b[1;33m\u001b[0m\u001b[0m\n\u001b[0;32m     24\u001b[0m             \u001b[1;32mfor\u001b[0m \u001b[0mparent\u001b[0m \u001b[1;32min\u001b[0m \u001b[0mlist\u001b[0m\u001b[1;33m(\u001b[0m\u001b[0mparents\u001b[0m\u001b[1;33m)\u001b[0m\u001b[1;33m:\u001b[0m\u001b[1;33m\u001b[0m\u001b[1;33m\u001b[0m\u001b[0m\n\u001b[1;32m---> 25\u001b[1;33m                 \u001b[0mres\u001b[0m\u001b[1;33m,\u001b[0m \u001b[0mis_contained\u001b[0m \u001b[1;33m=\u001b[0m \u001b[0mis_one_inside_two\u001b[0m\u001b[1;33m(\u001b[0m\u001b[0mparent\u001b[0m\u001b[1;33m,\u001b[0m \u001b[1;33m(\u001b[0m\u001b[0ma\u001b[0m\u001b[1;33m,\u001b[0m \u001b[0mb\u001b[0m\u001b[1;33m)\u001b[0m\u001b[1;33m,\u001b[0m \u001b[0mset\u001b[0m\u001b[1;33m(\u001b[0m\u001b[1;33m)\u001b[0m\u001b[1;33m)\u001b[0m\u001b[1;33m\u001b[0m\u001b[1;33m\u001b[0m\u001b[0m\n\u001b[0m\u001b[0;32m     26\u001b[0m                 \u001b[0mmax_envelope\u001b[0m \u001b[1;33m=\u001b[0m \u001b[0mmax\u001b[0m\u001b[1;33m(\u001b[0m\u001b[0mres\u001b[0m\u001b[1;33m,\u001b[0m \u001b[0mmax_envelope\u001b[0m\u001b[1;33m)\u001b[0m\u001b[1;33m\u001b[0m\u001b[1;33m\u001b[0m\u001b[0m\n\u001b[0;32m     27\u001b[0m                 \u001b[1;32mif\u001b[0m \u001b[1;32mnot\u001b[0m \u001b[0mis_contained\u001b[0m\u001b[1;33m:\u001b[0m\u001b[1;33m\u001b[0m\u001b[1;33m\u001b[0m\u001b[0m\n",
      "\u001b[1;32m<ipython-input-45-5f458f232e25>\u001b[0m in \u001b[0;36mis_one_inside_two\u001b[1;34m(envelope1, envelope2, visited)\u001b[0m\n\u001b[0;32m     16\u001b[0m                     \u001b[1;32mif\u001b[0m \u001b[0mchild\u001b[0m \u001b[1;32mnot\u001b[0m \u001b[1;32min\u001b[0m \u001b[0mvisited\u001b[0m\u001b[1;33m:\u001b[0m\u001b[1;33m\u001b[0m\u001b[1;33m\u001b[0m\u001b[0m\n\u001b[0;32m     17\u001b[0m                         \u001b[0mvisited\u001b[0m\u001b[1;33m.\u001b[0m\u001b[0madd\u001b[0m\u001b[1;33m(\u001b[0m\u001b[0mchild\u001b[0m\u001b[1;33m)\u001b[0m\u001b[1;33m\u001b[0m\u001b[1;33m\u001b[0m\u001b[0m\n\u001b[1;32m---> 18\u001b[1;33m                         \u001b[0mres\u001b[0m \u001b[1;33m=\u001b[0m \u001b[0mmax\u001b[0m\u001b[1;33m(\u001b[0m\u001b[0mres\u001b[0m\u001b[1;33m,\u001b[0m \u001b[0mis_one_inside_two\u001b[0m\u001b[1;33m(\u001b[0m\u001b[0mchild\u001b[0m\u001b[1;33m,\u001b[0m \u001b[0menvelope2\u001b[0m\u001b[1;33m,\u001b[0m \u001b[0mvisited\u001b[0m\u001b[1;33m)\u001b[0m\u001b[1;33m[\u001b[0m\u001b[1;36m0\u001b[0m\u001b[1;33m]\u001b[0m\u001b[1;33m)\u001b[0m\u001b[1;33m\u001b[0m\u001b[1;33m\u001b[0m\u001b[0m\n\u001b[0m\u001b[0;32m     19\u001b[0m                 \u001b[1;32mreturn\u001b[0m \u001b[1;33m(\u001b[0m\u001b[0mres\u001b[0m\u001b[1;33m,\u001b[0m \u001b[1;32mFalse\u001b[0m\u001b[1;33m)\u001b[0m\u001b[1;33m\u001b[0m\u001b[1;33m\u001b[0m\u001b[0m\n\u001b[0;32m     20\u001b[0m \u001b[1;33m\u001b[0m\u001b[0m\n",
      "\u001b[1;32m<ipython-input-45-5f458f232e25>\u001b[0m in \u001b[0;36mis_one_inside_two\u001b[1;34m(envelope1, envelope2, visited)\u001b[0m\n\u001b[0;32m      8\u001b[0m \u001b[1;33m\u001b[0m\u001b[0m\n\u001b[0;32m      9\u001b[0m         \u001b[1;32mdef\u001b[0m \u001b[0mis_one_inside_two\u001b[0m\u001b[1;33m(\u001b[0m\u001b[0menvelope1\u001b[0m\u001b[1;33m,\u001b[0m \u001b[0menvelope2\u001b[0m\u001b[1;33m,\u001b[0m \u001b[0mvisited\u001b[0m\u001b[1;33m)\u001b[0m\u001b[1;33m:\u001b[0m\u001b[1;33m\u001b[0m\u001b[1;33m\u001b[0m\u001b[0m\n\u001b[1;32m---> 10\u001b[1;33m             \u001b[1;32mif\u001b[0m \u001b[0menvelope1\u001b[0m\u001b[1;33m[\u001b[0m\u001b[1;36m0\u001b[0m\u001b[1;33m]\u001b[0m \u001b[1;33m<\u001b[0m \u001b[0menvelope2\u001b[0m\u001b[1;33m[\u001b[0m\u001b[1;36m0\u001b[0m\u001b[1;33m]\u001b[0m \u001b[1;32mand\u001b[0m \u001b[0menvelope1\u001b[0m\u001b[1;33m[\u001b[0m\u001b[1;36m1\u001b[0m\u001b[1;33m]\u001b[0m \u001b[1;33m<\u001b[0m \u001b[0menvelope2\u001b[0m\u001b[1;33m[\u001b[0m\u001b[1;36m1\u001b[0m\u001b[1;33m]\u001b[0m\u001b[1;33m:\u001b[0m\u001b[1;33m\u001b[0m\u001b[1;33m\u001b[0m\u001b[0m\n\u001b[0m\u001b[0;32m     11\u001b[0m                 \u001b[0mnode_children\u001b[0m\u001b[1;33m.\u001b[0m\u001b[0msetdefault\u001b[0m\u001b[1;33m(\u001b[0m\u001b[0menvelope2\u001b[0m\u001b[1;33m,\u001b[0m \u001b[1;33m{\u001b[0m\u001b[1;33m}\u001b[0m\u001b[1;33m)\u001b[0m\u001b[1;33m.\u001b[0m\u001b[0msetdefault\u001b[0m\u001b[1;33m(\u001b[0m\u001b[1;34m\"children\"\u001b[0m\u001b[1;33m,\u001b[0m \u001b[1;33m[\u001b[0m\u001b[1;33m]\u001b[0m\u001b[1;33m)\u001b[0m\u001b[1;33m.\u001b[0m\u001b[0mappend\u001b[0m\u001b[1;33m(\u001b[0m\u001b[0menvelope1\u001b[0m\u001b[1;33m)\u001b[0m\u001b[1;33m\u001b[0m\u001b[1;33m\u001b[0m\u001b[0m\n\u001b[0;32m     12\u001b[0m                 \u001b[1;32mreturn\u001b[0m \u001b[1;33m(\u001b[0m\u001b[0mnode_children\u001b[0m\u001b[1;33m[\u001b[0m\u001b[0menvelope1\u001b[0m\u001b[1;33m]\u001b[0m\u001b[1;33m[\u001b[0m\u001b[1;34m\"max\"\u001b[0m\u001b[1;33m]\u001b[0m\u001b[1;33m,\u001b[0m \u001b[1;32mTrue\u001b[0m\u001b[1;33m)\u001b[0m\u001b[1;33m\u001b[0m\u001b[1;33m\u001b[0m\u001b[0m\n",
      "\u001b[1;31mTypeError\u001b[0m: '<' not supported between instances of 'str' and 'int'"
     ]
    }
   ],
   "source": [
    "s.test()"
   ]
  },
  {
   "cell_type": "code",
   "execution_count": null,
   "metadata": {},
   "outputs": [],
   "source": []
  }
 ],
 "metadata": {
  "kernelspec": {
   "display_name": "Python 3.8 for Leetcode",
   "language": "python",
   "name": "leetcode"
  },
  "language_info": {
   "codemirror_mode": {
    "name": "ipython",
    "version": 3
   },
   "file_extension": ".py",
   "mimetype": "text/x-python",
   "name": "python",
   "nbconvert_exporter": "python",
   "pygments_lexer": "ipython3",
   "version": "3.8.1"
  }
 },
 "nbformat": 4,
 "nbformat_minor": 4
}
