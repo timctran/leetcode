{
 "cells": [
  {
   "cell_type": "markdown",
   "metadata": {},
   "source": [
    "Given n pairs of parentheses, write a function to generate all combinations of well-formed parentheses."
   ]
  },
  {
   "cell_type": "markdown",
   "metadata": {},
   "source": [
    "For this problem, it helped to look at the cases for small `n`.\n",
    "\n",
    "n = 0\n",
    "[]\n",
    "\n",
    "n = 1\n",
    "[()]\n",
    "\n",
    "n = 2\n",
    "[()(), (())]\n",
    "\n",
    "n = 3\n",
    "[()()(), (()()), ()(()), (())(), ((()))]"
   ]
  },
  {
   "cell_type": "code",
   "execution_count": 1,
   "metadata": {
    "collapsed": true
   },
   "outputs": [],
   "source": [
    "def generateParenthesis(n):\n",
    "    # a valid parentheses in the making with n\n",
    "    # can be thought of having three parts\n",
    "    # a stack, an output, and remaining parentheses to form\n",
    "\n",
    "    completed = []\n",
    "    queue = [ParenthesisBuilder(1, [\"(\"], n-1)]\n",
    "    while (queue):\n",
    "        partial_parenthesis = queue.pop()\n",
    "        if partial_parenthesis.pairs_remaining == 0:\n",
    "            partial_parenthesis.complete_parentheses()\n",
    "            completed.append(partial_parenthesis.get_output())\n",
    "        else:\n",
    "            if partial_parenthesis.pairs_remaining > 0:\n",
    "                pp_to_add_open = partial_parenthesis.copy()\n",
    "                pp_to_add_open.add_open()\n",
    "                queue.append(pp_to_add_open)\n",
    "            if partial_parenthesis.on_stack > 0:\n",
    "                pp_to_add_close = partial_parenthesis.copy()\n",
    "                pp_to_add_close.add_close()\n",
    "                queue.append(pp_to_add_close)\n",
    "    return completed\n",
    "        \n",
    "class ParenthesisBuilder():\n",
    "    def __init__(self, on_stack, output, pairs_remaining):\n",
    "        self.on_stack = on_stack\n",
    "        self.output = output\n",
    "        self.pairs_remaining = pairs_remaining\n",
    "        \n",
    "    def can_add_open(self):\n",
    "        return self.pairs_remaining > 0\n",
    "        \n",
    "    def can_add_close(self):\n",
    "        return self.on_stack > 0\n",
    "    \n",
    "    def add_open(self):\n",
    "        if self.can_add_open():\n",
    "            self.on_stack += 1\n",
    "            self.output.append(\"(\")\n",
    "            self.pairs_remaining -= 1\n",
    "        \n",
    "    def add_close(self):\n",
    "        if self.can_add_close():\n",
    "            self.on_stack -= 1\n",
    "            self.output.append(\")\")\n",
    "    \n",
    "    def complete_parentheses(self):\n",
    "        if self.pairs_remaining == 0:\n",
    "            self.output.append(\")\"*self.on_stack)\n",
    "            self.on_stack = 0\n",
    "        else:\n",
    "            print(\"Pairs still remaining.\")\n",
    "            \n",
    "    def get_output(self):\n",
    "        return \"\".join(self.output)\n",
    "    \n",
    "    def copy(self):\n",
    "        return ParenthesisBuilder(self.on_stack, [self.get_output()], self.pairs_remaining)"
   ]
  },
  {
   "cell_type": "code",
   "execution_count": 2,
   "metadata": {},
   "outputs": [
    {
     "data": {
      "text/plain": [
       "[]"
      ]
     },
     "execution_count": 2,
     "metadata": {},
     "output_type": "execute_result"
    }
   ],
   "source": [
    "generateParenthesis(0)"
   ]
  },
  {
   "cell_type": "code",
   "execution_count": 3,
   "metadata": {},
   "outputs": [
    {
     "data": {
      "text/plain": [
       "['()()()', '()(())', '(())()', '(()())', '((()))']"
      ]
     },
     "execution_count": 3,
     "metadata": {},
     "output_type": "execute_result"
    }
   ],
   "source": [
    "generateParenthesis(3)"
   ]
  },
  {
   "cell_type": "code",
   "execution_count": 4,
   "metadata": {},
   "outputs": [
    {
     "data": {
      "text/plain": [
       "['()()()()()',\n",
       " '()()()(())',\n",
       " '()()(())()',\n",
       " '()()(()())',\n",
       " '()()((()))',\n",
       " '()(())()()',\n",
       " '()(())(())',\n",
       " '()(()())()',\n",
       " '()(()()())',\n",
       " '()(()(()))',\n",
       " '()((()))()',\n",
       " '()((())())',\n",
       " '()((()()))',\n",
       " '()(((())))',\n",
       " '(())()()()',\n",
       " '(())()(())',\n",
       " '(())(())()',\n",
       " '(())(()())',\n",
       " '(())((()))',\n",
       " '(()())()()',\n",
       " '(()())(())',\n",
       " '(()()())()',\n",
       " '(()()()())',\n",
       " '(()()(()))',\n",
       " '(()(()))()',\n",
       " '(()(())())',\n",
       " '(()(()()))',\n",
       " '(()((())))',\n",
       " '((()))()()',\n",
       " '((()))(())',\n",
       " '((())())()',\n",
       " '((())()())',\n",
       " '((())(()))',\n",
       " '((()()))()',\n",
       " '((()())())',\n",
       " '((()()()))',\n",
       " '((()(())))',\n",
       " '(((())))()',\n",
       " '(((()))())',\n",
       " '(((())()))',\n",
       " '(((()())))',\n",
       " '((((()))))']"
      ]
     },
     "execution_count": 4,
     "metadata": {},
     "output_type": "execute_result"
    }
   ],
   "source": [
    "generateParenthesis(5)"
   ]
  },
  {
   "cell_type": "code",
   "execution_count": null,
   "metadata": {
    "collapsed": true
   },
   "outputs": [],
   "source": []
  }
 ],
 "metadata": {
  "kernelspec": {
   "display_name": "Python 3",
   "language": "python",
   "name": "python3"
  },
  "language_info": {
   "codemirror_mode": {
    "name": "ipython",
    "version": 3
   },
   "file_extension": ".py",
   "mimetype": "text/x-python",
   "name": "python",
   "nbconvert_exporter": "python",
   "pygments_lexer": "ipython3",
   "version": "3.6.1"
  }
 },
 "nbformat": 4,
 "nbformat_minor": 2
}
