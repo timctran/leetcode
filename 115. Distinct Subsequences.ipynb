{
 "cells": [
  {
   "cell_type": "markdown",
   "metadata": {},
   "source": [
    "Given a string S and a string T, count the number of distinct subsequences of S which equals T.\n",
    "\n",
    "A subsequence of a string is a new string which is formed from the original string by deleting some (can be none) of the characters without disturbing the relative positions of the remaining characters. (ie, \"ACE\" is a subsequence of \"ABCDE\" while \"AEC\" is not)."
   ]
  },
  {
   "cell_type": "markdown",
   "metadata": {},
   "source": [
    "After seeing various dynamic programming problems, I sort of get the hang of a type of them. In this problem at each step, we either pick an element of \"S\" or we don't, 0/1 knapsack problem.\n",
    "\n",
    "Define `D[i][j]` as the number of ways to write `T[:j+1]` using `S[:i+1]`.\n",
    "\n",
    "Let's take a look at the first example on LeetCode, `S = \"rabbbit\"` and `T = \"rabbit\"`. Specifically let's look at the first row. How many ways can we use the letter `r` to write `r`? 1. What about using the letter `r` to write `ra`? 0. And so on. So that we obtain the following:\n",
    "```\n",
    " rabbit\n",
    "r100000\n",
    "```\n",
    "We can continue and fill out the table to get\n",
    "```\n",
    " rabbit\n",
    "r100000\n",
    "a110000\n",
    "b111000\n",
    "b112100\n",
    "b113300\n",
    "i113330\n",
    "t113333\n",
    "```\n",
    "Looking for patterns, it seems that `D[i][j]` is the sum of `D[i-1][j]` and `D[i-1][j-1]` when `S[i] == T[j]`, otherwise it's just equal to `D[i-1][j]`.\n",
    "\n",
    "As a matter of interpretation, when we have an extra letter to use to build `T[:j+1]` then we can not use it in which case we've already counted the number of ways to build it (`D[i][j-1]`) or we can try and add it. We are allowed to add it if `S[i] == T[j]` and we are adding the character to `T[:j]` so the number of ways to use `S[:i]` to make `T[:j]` is exactly given by `D[i-1][j-1]`."
   ]
  },
  {
   "cell_type": "code",
   "execution_count": 22,
   "metadata": {
    "collapsed": true
   },
   "outputs": [],
   "source": [
    "class Solution:\n",
    "    def numDistinct(self, s, t):\n",
    "        D = [1] + [0]*len(t) # The number of ways to write the empty string with the empty string is 1.\n",
    "        \n",
    "        for char_s in s:\n",
    "            D_new = [1]\n",
    "            for i, char_t in enumerate(t):\n",
    "                D_new.append(D[i+1] + (D[i] if char_s == char_t else 0))\n",
    "            D = D_new\n",
    "            print(D)\n",
    "            \n",
    "        return D[-1]"
   ]
  },
  {
   "cell_type": "markdown",
   "metadata": {},
   "source": [
    "If we wanted to use even less memory, then we can just store `D[i+1]` and then update `D[i+1]` in place.\n",
    "```\n",
    "        for char_s in s:\n",
    "            prev = D[0]\n",
    "            for i, char_t in enumerate(t):\n",
    "                prev, D[i+1] = D[i+1], D[i+1] + 0 if char_s != char_t else prev\n",
    "            print(D)\n",
    "```\n",
    "\n",
    "In terms of runtime, a quick way to avoid unnecessary work is to immediately return 0 if len(s) < len(t).\n",
    "\n",
    "```\n",
    "        if len(s) < len(t):\n",
    "            return 0\n",
    "```\n",
    "\n",
    "Next we note that we make a pass through all the letters `char_t` of `t` for every `char_s`. However, we're doing too much work because we only need to make updates to `D` when `char_s == char_t`. So if put initial effort into passing through `t` and index its letters first, then we can immediately retrieve those indices matching `char_s`.\n",
    "\n",
    "```\n",
    "        t_dict = {}\n",
    "        for i, char_t in enumerate(t):\n",
    "            t_dict.setdefault(char_t, []).append(i)\n",
    "        \n",
    "        for char_s in s:\n",
    "            prev_i = 0\n",
    "            prev = D[0]\n",
    "            for i in t_dict.get(char_s, []):\n",
    "                if i == prev_i: # if i + 1 == prev_i + 1:\n",
    "                    # `D[i]` was disturbed in previous step so we use the stored value `prev`\n",
    "                    prev, prev_i, D[i+1] = D[i+1], i+1, D[i+1] + prev\n",
    "                else: \n",
    "                    # `D[i]` was undisturbed in previous step so necessarily we must use it\n",
    "                    prev, prev_i, D[i+1] = D[i+1], i+1, D[i+1] + D[i]\n",
    "            print(D)\n",
    "```\n",
    "\n",
    "On Leetcode this newer solution has a 32 ms runtime (13.1 MB memory) (\"faster than 98.41%\") versus the first solution which had a 128 ms runtime (12.9 MB memory).\n",
    "\n",
    "Note that more succinctly we can write the following:\n",
    "```\n",
    "            for i in t_dict.get(char_s, []):\n",
    "                prev, prev_i, D[i+1] = D[i+1], i+1, D[i+1] + (prev if i == prev_i else D[i])\n",
    "```\n",
    "\n",
    "I then realized that the reason for all the bookkeeping is because values are getting replaced. However, we don't have to bookkeep if we go *backwards*!\n",
    "\n",
    "```\n",
    "            for i in t_dict.get(char_s, [])[::-1]:\n",
    "                D[i+1] += D[i]\n",
    "```\n",
    "\n",
    "On Leetcode this newer solution has a 28 ms runtime (12.8 MB memory) (\"faster than 99.34%\")."
   ]
  },
  {
   "cell_type": "code",
   "execution_count": 74,
   "metadata": {
    "collapsed": true
   },
   "outputs": [],
   "source": [
    "class Solution:\n",
    "    def numDistinct(self, s, t):\n",
    "        if len(s) < len(t):\n",
    "            return 0\n",
    "        \n",
    "        t_dict = {}\n",
    "        for i, char_t in enumerate(t):\n",
    "            t_dict.setdefault(char_t, []).append(i)\n",
    "        \n",
    "        D = [1] + [0]*len(t)\n",
    "        \n",
    "        for char_s in s:\n",
    "            for i in t_dict.get(char_s, [])[::-1]:\n",
    "                D[i+1] += D[i]\n",
    "            print(D)\n",
    "            \n",
    "        return D[-1]"
   ]
  },
  {
   "cell_type": "markdown",
   "metadata": {},
   "source": [
    "Finally I was curious if the following code would help burn through certain test cases.\n",
    "\n",
    "```\n",
    "        i = -1\n",
    "        for char_t in t:\n",
    "            while i < len(s):\n",
    "                i += 1\n",
    "                try:\n",
    "                    if char_t == s[i]:\n",
    "                        break\n",
    "                except:\n",
    "                    return 0\n",
    "```\n",
    "\n",
    "It turns out the answer is yes. On Leetcode this newer solution has a 20 ms runtime (12.9 MB memory) (\"faster than 100.00%\").             "
   ]
  },
  {
   "cell_type": "code",
   "execution_count": 98,
   "metadata": {
    "collapsed": true
   },
   "outputs": [],
   "source": [
    "class Solution:\n",
    "    def numDistinct(self, s, t):\n",
    "        # If len(s) is less than len(t), there's no way to write t using s\n",
    "        if len(s) < len(t):\n",
    "            return 0\n",
    "        \n",
    "        # We check if t can be written at least one way using s\n",
    "        i = -1\n",
    "        for char_t in t:\n",
    "            while i < len(s):\n",
    "                i += 1\n",
    "                try:\n",
    "                    if char_t == s[i]:\n",
    "                        break\n",
    "                except:\n",
    "                    return 0\n",
    "                \n",
    "        # Since there's at least one way to write t using s, now we count the ways.\n",
    "        t_dict = {}\n",
    "        for i, char_t in enumerate(t):\n",
    "            t_dict.setdefault(char_t, []).append(i)\n",
    "        \n",
    "        D = [1] + [0]*len(t)\n",
    "        \n",
    "        for char_s in s:\n",
    "            for i in t_dict.get(char_s, [])[::-1]:\n",
    "                D[i+1] += D[i]\n",
    "            print(D)\n",
    "            \n",
    "        return D[-1]"
   ]
  },
  {
   "cell_type": "markdown",
   "metadata": {},
   "source": [
    "Remark: I suppose it depends on the specific test cases. If one combines the loop for checking at least one way to write t using s and the loop which creates t_dict, then LeetCode ran that code in 24 ms (13 MB memory); still faster than 100%."
   ]
  },
  {
   "cell_type": "markdown",
   "metadata": {},
   "source": [
    "# Test Cases"
   ]
  },
  {
   "cell_type": "code",
   "execution_count": 99,
   "metadata": {
    "collapsed": true
   },
   "outputs": [],
   "source": [
    "s = Solution()"
   ]
  },
  {
   "cell_type": "code",
   "execution_count": 100,
   "metadata": {},
   "outputs": [
    {
     "name": "stdout",
     "output_type": "stream",
     "text": [
      "[1, 1, 0, 0, 0, 0, 0]\n",
      "[1, 1, 1, 0, 0, 0, 0]\n",
      "[1, 1, 1, 1, 0, 0, 0]\n",
      "[1, 1, 1, 2, 1, 0, 0]\n",
      "[1, 1, 1, 3, 3, 0, 0]\n",
      "[1, 1, 1, 3, 3, 3, 0]\n",
      "[1, 1, 1, 3, 3, 3, 3]\n"
     ]
    },
    {
     "data": {
      "text/plain": [
       "3"
      ]
     },
     "execution_count": 100,
     "metadata": {},
     "output_type": "execute_result"
    }
   ],
   "source": [
    "s.numDistinct(\"rabbbit\", \"rabbit\")"
   ]
  },
  {
   "cell_type": "code",
   "execution_count": 101,
   "metadata": {},
   "outputs": [
    {
     "name": "stdout",
     "output_type": "stream",
     "text": [
      "[1, 1, 0, 0]\n",
      "[1, 1, 1, 0]\n",
      "[1, 1, 1, 1]\n",
      "[1, 1, 1, 2]\n",
      "[1, 2, 1, 2]\n",
      "[1, 2, 3, 2]\n",
      "[1, 2, 3, 5]\n"
     ]
    },
    {
     "data": {
      "text/plain": [
       "5"
      ]
     },
     "execution_count": 101,
     "metadata": {},
     "output_type": "execute_result"
    }
   ],
   "source": [
    "s.numDistinct(\"baggbag\", \"bag\")"
   ]
  },
  {
   "cell_type": "code",
   "execution_count": 102,
   "metadata": {},
   "outputs": [
    {
     "name": "stdout",
     "output_type": "stream",
     "text": [
      "[1]\n",
      "[1]\n",
      "[1]\n",
      "[1]\n",
      "[1]\n",
      "[1]\n",
      "[1]\n"
     ]
    },
    {
     "data": {
      "text/plain": [
       "1"
      ]
     },
     "execution_count": 102,
     "metadata": {},
     "output_type": "execute_result"
    }
   ],
   "source": [
    "s.numDistinct(\"baggbag\", \"\")"
   ]
  },
  {
   "cell_type": "code",
   "execution_count": 103,
   "metadata": {},
   "outputs": [
    {
     "data": {
      "text/plain": [
       "1"
      ]
     },
     "execution_count": 103,
     "metadata": {},
     "output_type": "execute_result"
    }
   ],
   "source": [
    "s.numDistinct(\"\", \"\")"
   ]
  },
  {
   "cell_type": "code",
   "execution_count": 104,
   "metadata": {},
   "outputs": [
    {
     "data": {
      "text/plain": [
       "0"
      ]
     },
     "execution_count": 104,
     "metadata": {},
     "output_type": "execute_result"
    }
   ],
   "source": [
    "s.numDistinct(\"\", \"a\")"
   ]
  },
  {
   "cell_type": "code",
   "execution_count": 105,
   "metadata": {},
   "outputs": [
    {
     "name": "stdout",
     "output_type": "stream",
     "text": [
      "[1, 1]\n",
      "[1, 2]\n",
      "[1, 3]\n",
      "[1, 4]\n",
      "[1, 5]\n"
     ]
    },
    {
     "data": {
      "text/plain": [
       "5"
      ]
     },
     "execution_count": 105,
     "metadata": {},
     "output_type": "execute_result"
    }
   ],
   "source": [
    "s.numDistinct(\"aaaaa\", \"a\")"
   ]
  },
  {
   "cell_type": "code",
   "execution_count": 106,
   "metadata": {},
   "outputs": [
    {
     "name": "stdout",
     "output_type": "stream",
     "text": [
      "[1, 1, 0]\n",
      "[1, 2, 0]\n",
      "[1, 3, 0]\n",
      "[1, 4, 0]\n",
      "[1, 5, 0]\n",
      "[1, 5, 5]\n",
      "[1, 5, 10]\n"
     ]
    },
    {
     "data": {
      "text/plain": [
       "10"
      ]
     },
     "execution_count": 106,
     "metadata": {},
     "output_type": "execute_result"
    }
   ],
   "source": [
    "s.numDistinct(\"aaaaabb\", \"ab\")"
   ]
  },
  {
   "cell_type": "code",
   "execution_count": 107,
   "metadata": {},
   "outputs": [
    {
     "name": "stdout",
     "output_type": "stream",
     "text": [
      "[1, 1, 0, 0, 0]\n",
      "[1, 2, 0, 0, 0]\n",
      "[1, 2, 2, 0, 0]\n",
      "[1, 3, 2, 0, 0]\n",
      "[1, 3, 2, 2, 0]\n",
      "[1, 3, 2, 4, 2]\n",
      "[1, 4, 2, 4, 2]\n",
      "[1, 4, 6, 4, 2]\n",
      "[1, 5, 6, 4, 2]\n",
      "[1, 5, 6, 10, 6]\n",
      "[1, 5, 11, 10, 6]\n",
      "[1, 5, 11, 21, 16]\n",
      "[1, 5, 11, 32, 37]\n"
     ]
    },
    {
     "data": {
      "text/plain": [
       "37"
      ]
     },
     "execution_count": 107,
     "metadata": {},
     "output_type": "execute_result"
    }
   ],
   "source": [
    "s.numDistinct(\"aacabbacabcbb\", \"acbb\")"
   ]
  },
  {
   "cell_type": "code",
   "execution_count": 108,
   "metadata": {},
   "outputs": [
    {
     "name": "stdout",
     "output_type": "stream",
     "text": [
      "[1, 0, 0, 0, 0]\n",
      "[1, 1, 0, 0, 0]\n",
      "[1, 2, 0, 0, 0]\n",
      "[1, 2, 0, 0, 0]\n",
      "[1, 2, 2, 0, 0]\n",
      "[1, 3, 2, 0, 0]\n",
      "[1, 3, 2, 2, 0]\n",
      "[1, 3, 2, 4, 2]\n",
      "[1, 4, 2, 4, 2]\n",
      "[1, 4, 6, 4, 2]\n",
      "[1, 5, 6, 4, 2]\n",
      "[1, 5, 6, 10, 6]\n",
      "[1, 5, 11, 10, 6]\n",
      "[1, 5, 11, 21, 16]\n",
      "[1, 5, 11, 32, 37]\n"
     ]
    },
    {
     "data": {
      "text/plain": [
       "37"
      ]
     },
     "execution_count": 108,
     "metadata": {},
     "output_type": "execute_result"
    }
   ],
   "source": [
    "s.numDistinct(\"daadcabbacabcbb\", \"acbb\")"
   ]
  },
  {
   "cell_type": "code",
   "execution_count": 109,
   "metadata": {},
   "outputs": [
    {
     "data": {
      "text/plain": [
       "0"
      ]
     },
     "execution_count": 109,
     "metadata": {},
     "output_type": "execute_result"
    }
   ],
   "source": [
    "s.numDistinct(\"aacabbacabcbb\", \"acbbdb\")"
   ]
  },
  {
   "cell_type": "code",
   "execution_count": null,
   "metadata": {
    "collapsed": true
   },
   "outputs": [],
   "source": []
  }
 ],
 "metadata": {
  "kernelspec": {
   "display_name": "Python 3",
   "language": "python",
   "name": "python3"
  },
  "language_info": {
   "codemirror_mode": {
    "name": "ipython",
    "version": 3
   },
   "file_extension": ".py",
   "mimetype": "text/x-python",
   "name": "python",
   "nbconvert_exporter": "python",
   "pygments_lexer": "ipython3",
   "version": "3.6.1"
  }
 },
 "nbformat": 4,
 "nbformat_minor": 2
}
