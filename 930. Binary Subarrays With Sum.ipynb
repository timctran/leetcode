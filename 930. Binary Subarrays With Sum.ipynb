{
 "cells": [
  {
   "cell_type": "markdown",
   "metadata": {},
   "source": [
    "In an array A of 0s and 1s, how many non-empty subarrays have sum S?"
   ]
  },
  {
   "cell_type": "code",
   "execution_count": 31,
   "metadata": {
    "collapsed": true
   },
   "outputs": [],
   "source": [
    "class Solution:\n",
    "    def numSubarraysWithSum(self, A, S) -> int:       \n",
    "        current = 0\n",
    "        count = 0\n",
    "        counts = []\n",
    "        for i in A:\n",
    "            if i == current:\n",
    "                if i == 0:\n",
    "                    count += 1\n",
    "                else:\n",
    "                    counts.extend([1, 0])\n",
    "            else:\n",
    "                counts.append(count)\n",
    "                current = i\n",
    "                count = 1\n",
    "                \n",
    "        counts.append(count)\n",
    "        if current == 1:\n",
    "            counts.append(0)\n",
    "        \n",
    "        n = len(counts)\n",
    "        window_length = 2*S+1\n",
    "        if window_length > n:\n",
    "            return 0\n",
    "        \n",
    "        non_empty_subarrays_with_sum_S = 0\n",
    "        for i in range(0, n - window_length + 1, 2):\n",
    "            if S>0:\n",
    "                start_0_count = counts[i]\n",
    "                end_0_count = counts[i+window_length-1]\n",
    "                non_empty_subarrays_with_sum_S += (start_0_count+1)*(end_0_count+1)\n",
    "            else:\n",
    "                zero_count = counts[i]\n",
    "                non_empty_subarrays_with_sum_S += (zero_count)*(zero_count+1)//2\n",
    "                            \n",
    "        return non_empty_subarrays_with_sum_S"
   ]
  },
  {
   "cell_type": "markdown",
   "metadata": {},
   "source": [
    "Runtime: 248 ms, faster than 97.04% of Python3 online submissions for Binary Subarrays With Sum.  \n",
    "Memory Usage: 14.7 MB, less than 75.00% of Python3 online submissions for Binary Subarrays With Sum."
   ]
  },
  {
   "cell_type": "markdown",
   "metadata": {},
   "source": [
    "It can be seen that the 1's do not contribute to the array and are just taking up space. The solution can be simplified by removing them."
   ]
  },
  {
   "cell_type": "code",
   "execution_count": 42,
   "metadata": {
    "collapsed": true
   },
   "outputs": [],
   "source": [
    "class Solution:\n",
    "    def numSubarraysWithSum(self, A, S) -> int:\n",
    "        counts = []\n",
    "        \n",
    "        count = 0\n",
    "        for i in A:\n",
    "            if i == 0:\n",
    "                count += 1\n",
    "            else:\n",
    "                counts.append(count)\n",
    "                count = 0\n",
    "                \n",
    "        if i == 0:\n",
    "            counts.append(count)\n",
    "        else:\n",
    "            counts.append(0)\n",
    "            \n",
    "        if S>0:\n",
    "            n = len(counts)\n",
    "            result = sum([(counts[i]+1)*(counts[i+S]+1) for i in range(n-S)])\n",
    "        else:\n",
    "            result = sum([count*(count+1)//2 for count in counts])\n",
    "                            \n",
    "        return result"
   ]
  },
  {
   "cell_type": "markdown",
   "metadata": {},
   "source": [
    "Runtime: 348 ms, faster than 12.96% of Python3 online submissions for Binary Subarrays With Sum.  \n",
    "Memory Usage: 14.6 MB, less than 75.00% of Python3 online submissions for Binary Subarrays With Sum."
   ]
  },
  {
   "cell_type": "code",
   "execution_count": 63,
   "metadata": {
    "collapsed": true
   },
   "outputs": [],
   "source": [
    "class Solution:\n",
    "    def numSubarraysWithSum(self, A, S) -> int:\n",
    "        counts = []\n",
    "        \n",
    "        A.append(1) # Add a dummy\n",
    "        \n",
    "        count = 0\n",
    "        for i in A:\n",
    "            if i == 0:\n",
    "                count += 1\n",
    "            else:\n",
    "                counts.append(count)\n",
    "                count = 0\n",
    "            \n",
    "        if S>0:\n",
    "            n = len(counts)\n",
    "            result = sum([(counts[i]+1)*(counts[i+S]+1) for i in range(n-S)])\n",
    "        else:\n",
    "            result = sum([count*(count+1)//2 for count in counts])\n",
    "                            \n",
    "        return result"
   ]
  },
  {
   "cell_type": "markdown",
   "metadata": {},
   "source": [
    "```\n",
    "        if S>0:\n",
    "            n = len(counts)\n",
    "            result = sum([(counts[i]+1)*(counts[i+S]+1) for i in range(n-S)])\n",
    "        else:\n",
    "            result = sum([count*(count+1)//2 for count in counts])\n",
    "                            \n",
    "        return result\n",
    "```\n",
    "\n",
    "Runtime: 228 ms, faster than 100.00% of Python3 online submissions for Binary Subarrays With Sum.  \n",
    "Memory Usage: 14.5 MB, less than 75.00% of Python3 online submissions for Binary Subarrays With Sum.\n",
    "\n",
    "```\n",
    "        if S>0:\n",
    "            return sum([(counts[i]+1)*(counts[i+S]+1) for i in range(len(counts)-S)])\n",
    "        else:\n",
    "            return sum([count*(count+1)//2 for count in counts])\n",
    "```\n",
    "\n",
    "Somehow not storing the result and returning the sum directly caused the runtime to spike. I did it twice to check if it was a fluke.\n",
    "\n",
    "Runtime: 424 ms, faster than 8.80% of Python3 online submissions for Binary Subarrays With Sum.  \n",
    "Memory Usage: 14.7 MB, less than ??.??% of Python3 online submissions for Binary Subarrays With Sum.\n",
    "\n",
    "Runtime: 488 ms, faster than 6.36% of Python3 online submissions for Binary Subarrays With Sum.  \n",
    "Memory Usage: 14.5 MB, less than 75.00% of Python3 online submissions for Binary Subarrays With Sum.\n",
    "\n",
    "```\n",
    "        return sum([(counts[i]+1)*(counts[i+S]+1) for i in range(len(counts)-S)]) if S>0 \\\n",
    "            else sum([count*(count+1)//2 for count in counts])\n",
    "```\n",
    "\n",
    "This is ugly code, but I was curious how it would affect the runtime.\n",
    "\n",
    "Runtime: 272 ms, faster than 76.77% of Python3 online submissions for Binary Subarrays With Sum.  \n",
    "Memory Usage: 14.5 MB, less than 75.00% of Python3 online submissions for Binary Subarrays With Sum."
   ]
  },
  {
   "cell_type": "code",
   "execution_count": null,
   "metadata": {
    "collapsed": true
   },
   "outputs": [],
   "source": [
    "class Solution:\n",
    "    def numSubarraysWithSum(self, A, S) -> int:\n",
    "        counts = []\n",
    "        \n",
    "        A.append(1) # Add a dummy\n",
    "        \n",
    "        count = 0\n",
    "        for i in A:\n",
    "            if i == 0:\n",
    "                count += 1\n",
    "            else:\n",
    "                counts.append(count+1)\n",
    "                count = 0\n",
    "            \n",
    "        if S>0:\n",
    "            n = len(counts)\n",
    "            result = sum([counts[i]*counts[i+S] for i in range(n-S)])\n",
    "        else:\n",
    "            result = sum([(count-1)*count//2 for count in counts])\n",
    "                            \n",
    "        return result"
   ]
  },
  {
   "cell_type": "markdown",
   "metadata": {},
   "source": [
    "Essentially the above solution but tweeked to move the addition of plus one into the earlier stage. It causes a slight increase in runtime (according to LeetCode).\n",
    "\n",
    "Runtime: 316 ms, faster than 19.80% of Python3 online submissions for Binary Subarrays With Sum.  \n",
    "Memory Usage: 14.6 MB, less than 75.00% of Python3 online submissions for Binary Subarrays With Sum."
   ]
  },
  {
   "cell_type": "markdown",
   "metadata": {},
   "source": [
    "## Test Cases"
   ]
  },
  {
   "cell_type": "code",
   "execution_count": 64,
   "metadata": {},
   "outputs": [
    {
     "data": {
      "text/plain": [
       "15"
      ]
     },
     "execution_count": 64,
     "metadata": {},
     "output_type": "execute_result"
    }
   ],
   "source": [
    "s = Solution()\n",
    "s.numSubarraysWithSum([0, 0, 0, 0, 0], 0)\n",
    "\n",
    "# 15"
   ]
  },
  {
   "cell_type": "code",
   "execution_count": 65,
   "metadata": {},
   "outputs": [
    {
     "data": {
      "text/plain": [
       "9"
      ]
     },
     "execution_count": 65,
     "metadata": {},
     "output_type": "execute_result"
    }
   ],
   "source": [
    "s = Solution()\n",
    "s.numSubarraysWithSum([0, 0, 1, 0, 0], 1)\n",
    "\n",
    "# 9"
   ]
  },
  {
   "cell_type": "code",
   "execution_count": 66,
   "metadata": {},
   "outputs": [
    {
     "data": {
      "text/plain": [
       "10"
      ]
     },
     "execution_count": 66,
     "metadata": {},
     "output_type": "execute_result"
    }
   ],
   "source": [
    "s = Solution()\n",
    "s.numSubarraysWithSum([0, 0, 1, 0, 1, 0], 1)\n",
    "\n",
    "# 10"
   ]
  },
  {
   "cell_type": "code",
   "execution_count": 67,
   "metadata": {},
   "outputs": [
    {
     "data": {
      "text/plain": [
       "5"
      ]
     },
     "execution_count": 67,
     "metadata": {},
     "output_type": "execute_result"
    }
   ],
   "source": [
    "s = Solution()\n",
    "s.numSubarraysWithSum([0, 1, 1, 1, 1, 0], 2)\n",
    "\n",
    "# 5"
   ]
  },
  {
   "cell_type": "code",
   "execution_count": 68,
   "metadata": {},
   "outputs": [
    {
     "data": {
      "text/plain": [
       "0"
      ]
     },
     "execution_count": 68,
     "metadata": {},
     "output_type": "execute_result"
    }
   ],
   "source": [
    "s = Solution()\n",
    "s.numSubarraysWithSum([0, 1, 1, 1, 1, 0], 10)\n",
    "\n",
    "# 0"
   ]
  },
  {
   "cell_type": "code",
   "execution_count": 69,
   "metadata": {},
   "outputs": [
    {
     "data": {
      "text/plain": [
       "0"
      ]
     },
     "execution_count": 69,
     "metadata": {},
     "output_type": "execute_result"
    }
   ],
   "source": [
    "s = Solution()\n",
    "s.numSubarraysWithSum([0, 0, 0], 2)\n",
    "\n",
    "# 0"
   ]
  },
  {
   "cell_type": "code",
   "execution_count": null,
   "metadata": {
    "collapsed": true
   },
   "outputs": [],
   "source": []
  }
 ],
 "metadata": {
  "kernelspec": {
   "display_name": "Python 3",
   "language": "python",
   "name": "python3"
  },
  "language_info": {
   "codemirror_mode": {
    "name": "ipython",
    "version": 3
   },
   "file_extension": ".py",
   "mimetype": "text/x-python",
   "name": "python",
   "nbconvert_exporter": "python",
   "pygments_lexer": "ipython3",
   "version": "3.6.1"
  }
 },
 "nbformat": 4,
 "nbformat_minor": 2
}
