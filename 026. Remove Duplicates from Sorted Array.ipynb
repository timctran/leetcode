{
 "cells": [
  {
   "cell_type": "markdown",
   "metadata": {},
   "source": [
    "In this problem, someone posted asking about why the following solution wasn't correct.\n",
    "\n",
    "The answer is that they are not modifying `nums` in-place as requested by the problem."
   ]
  },
  {
   "cell_type": "code",
   "execution_count": 1,
   "metadata": {},
   "outputs": [
    {
     "name": "stdout",
     "output_type": "stream",
     "text": [
      "Returned Length: 2\n",
      "`nums`: [1, 1, 2]\n",
      "As such the user sees this as the solution: [1, 1]\n"
     ]
    }
   ],
   "source": [
    "class Solution:\n",
    "    def removeDuplicates(self, nums):\n",
    "        i = 0\n",
    "        while i < len(nums)-1:\n",
    "            if nums[i] == nums[i+1]:\n",
    "                nums = nums[:i] + nums[i+1:]\n",
    "            else:\n",
    "                i += 1\n",
    "                \n",
    "        res = len(nums)\n",
    "        return res\n",
    "    \n",
    "s = Solution()\n",
    "nums = [1, 1, 2]\n",
    "n = s.removeDuplicates(nums)\n",
    "print(\"Returned Length:\", n)\n",
    "print(\"`nums`:\", nums)\n",
    "print(\"As such the user sees this as the solution:\", nums[:n])"
   ]
  },
  {
   "cell_type": "markdown",
   "metadata": {},
   "source": [
    "In contrast, the following is my solution."
   ]
  },
  {
   "cell_type": "code",
   "execution_count": 2,
   "metadata": {},
   "outputs": [
    {
     "name": "stdout",
     "output_type": "stream",
     "text": [
      "Returned Length: 2\n",
      "`nums`: [1, 2, 2]\n",
      "Expected output: [1, 2]\n"
     ]
    }
   ],
   "source": [
    "class MySolution:\n",
    "    def removeDuplicates(self, num):\n",
    "        next_index = 0\n",
    "        for i, num in enumerate(nums):\n",
    "            if num > nums[next_index-1] or i == 0:\n",
    "                nums[next_index] = num\n",
    "                next_index += 1\n",
    "        \n",
    "        return next_index\n",
    "\n",
    "s = MySolution()\n",
    "nums = [1, 1, 2]\n",
    "n = s.removeDuplicates(nums)\n",
    "print(\"Returned Length:\", n)\n",
    "print(\"`nums`:\", nums)\n",
    "print(\"Expected output:\", nums[:n])"
   ]
  }
 ],
 "metadata": {
  "kernelspec": {
   "display_name": "Python 3",
   "language": "python",
   "name": "python3"
  },
  "language_info": {
   "codemirror_mode": {
    "name": "ipython",
    "version": 3
   },
   "file_extension": ".py",
   "mimetype": "text/x-python",
   "name": "python",
   "nbconvert_exporter": "python",
   "pygments_lexer": "ipython3",
   "version": "3.6.1"
  }
 },
 "nbformat": 4,
 "nbformat_minor": 2
}
