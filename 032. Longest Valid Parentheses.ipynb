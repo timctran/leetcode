{
 "cells": [
  {
   "cell_type": "markdown",
   "metadata": {},
   "source": [
    "# My Solution"
   ]
  },
  {
   "cell_type": "markdown",
   "metadata": {},
   "source": [
    "My solution involves keeping track of when an open parenthesis is completed with a closing parenthesis."
   ]
  },
  {
   "cell_type": "code",
   "execution_count": 1,
   "metadata": {
    "collapsed": true
   },
   "outputs": [],
   "source": [
    "def longestValidParentheses(s):\n",
    "    completion_tracker = []\n",
    "    stack = []\n",
    "    i = 0\n",
    "    for parenthesis in s:\n",
    "        if parenthesis == \"(\":\n",
    "            stack.append(i)\n",
    "            completion_tracker.append(\"|\")\n",
    "            i += 1\n",
    "        else:\n",
    "            if stack:\n",
    "                index_completed = stack.pop()\n",
    "                completion_tracker[index_completed] = \"X\"\n",
    "            else:\n",
    "                completion_tracker.append(\"|\")\n",
    "                i += 1\n",
    "                \n",
    "    completion_string = \"\".join(completion_tracker)\n",
    "    longest_run = max([len(x) for x in completion_string.split(\"|\")])\n",
    "\n",
    "    return 2*longest_run"
   ]
  },
  {
   "cell_type": "markdown",
   "metadata": {},
   "source": [
    "Remark 1: I could have written\n",
    "\n",
    "```\n",
    "        elif stack:\n",
    "            index_completed = stack.pop()\n",
    "            completion_tracker[index_completed] = \"X\"\n",
    "        else:\n",
    "            completion_tracker.append(\"|\")\n",
    "            i += 1\n",
    "```\n",
    "\n",
    "but the code in the above form follows the logical thought process that goes into the problem.\n",
    "\n",
    "Remark 2: Noticing a repetition of statements, one can rewrite the if-then statement portion as the following:\n",
    "\n",
    "```\n",
    "        if stack and parenthesis == \")\":\n",
    "            completion_tracker[stack.pop()] = \"X\"\n",
    "        else:\n",
    "            if parenthesis == \"(\":\n",
    "                stack.append(i)\n",
    "            completion_tracker.append(\"|\")\n",
    "            i += 1\n",
    "```\n",
    "\n",
    "Remark 3: My instinct for determining the longest run was to use string operations. However, one can also use itertools.groupby() in order to group consecutive elements and then determine the length of each group.\n",
    "\n",
    "```\n",
    "import itertools\n",
    "def longestValidParentheses(s):\n",
    "\n",
    "    [...]\n",
    "\n",
    "    longest_run = max([sum(1 for i in g) for k, g in itertools.groupby(completion_tracker) if k == \"X\"])\n",
    "```\n",
    "\n",
    "Remark 4: I like the string counting better than using itertools.groupby because it's both easy to understand and easy to come up with. A much more manual method would involve looping over the `completion_tracker`. I provide it here. \n",
    "\n",
    "```\n",
    "    longest_run = 0\n",
    "    run_length = 0\n",
    "    for char in completion_tracker:\n",
    "        if char == \"X\":\n",
    "            run_length += 1\n",
    "        else:\n",
    "            longest_run = max(longest_run, run_length)\n",
    "            run_length = 0\n",
    "```"
   ]
  },
  {
   "cell_type": "markdown",
   "metadata": {},
   "source": [
    "Of course the \"better\" solution would involve dynamic programming. I might type that up for completion purposes but for now I supply the above."
   ]
  },
  {
   "cell_type": "markdown",
   "metadata": {},
   "source": [
    "# Running Testcases"
   ]
  },
  {
   "cell_type": "code",
   "execution_count": 2,
   "metadata": {},
   "outputs": [
    {
     "name": "stdout",
     "output_type": "stream",
     "text": [
      ")(()(()))))()())(()(\n",
      "8\n",
      "(())(((((())(()))(((\n",
      "10\n",
      ")))))))((()(()()()()\n",
      "8\n",
      "())((()(()())(()((((\n",
      "8\n",
      "()))()()((()((((((()\n",
      "4\n",
      "())((())(()())())(()\n",
      "14\n",
      "())))))((()(()((()))\n",
      "8\n",
      ")())()()))(()())(()(\n",
      "6\n",
      "(()()))()))(())))))(\n",
      "6\n",
      "))())()))()()())()()\n",
      "6\n"
     ]
    }
   ],
   "source": [
    "import random\n",
    "for i in range(10):\n",
    "    a = \"\".join([str(random.randint(0,1)) for i in range(20)]).replace(\"0\", \"(\").replace(\"1\", \")\")\n",
    "    print(a)\n",
    "    print(longestValidParentheses(a))"
   ]
  },
  {
   "cell_type": "code",
   "execution_count": null,
   "metadata": {
    "collapsed": true
   },
   "outputs": [],
   "source": []
  }
 ],
 "metadata": {
  "kernelspec": {
   "display_name": "Python 3",
   "language": "python",
   "name": "python3"
  },
  "language_info": {
   "codemirror_mode": {
    "name": "ipython",
    "version": 3
   },
   "file_extension": ".py",
   "mimetype": "text/x-python",
   "name": "python",
   "nbconvert_exporter": "python",
   "pygments_lexer": "ipython3",
   "version": "3.6.1"
  }
 },
 "nbformat": 4,
 "nbformat_minor": 2
}
