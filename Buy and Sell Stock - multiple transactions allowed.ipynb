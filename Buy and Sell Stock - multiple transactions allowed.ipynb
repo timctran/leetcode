{
 "cells": [
  {
   "cell_type": "markdown",
   "metadata": {},
   "source": [
    "> You are given Amazon's stock price for every day. You are allowed to buy stocks (multiple transactions allowed) every day without any transaction fees. Calculate maximum profit."
   ]
  },
  {
   "cell_type": "markdown",
   "metadata": {},
   "source": [
    "An interview question was shared on the forum. It is a variation of problem 122. In problem 122, we are allowed to make a new purchase as long as we have already sold our previous stock. In this problem, one is allowed a purchase of one share per day and can sell multiple shares on the same day.\n",
    "\n",
    "Note that because the OP shared a Java solution, I am using some code here that is more readable versus what I would normally write. For example `if len(prices) == 0` instead of `if not prices`."
   ]
  },
  {
   "cell_type": "markdown",
   "metadata": {},
   "source": [
    "I shared my solution as a reply. I prefaced the solution with the following:\n",
    "> This is my Python3 O(n) solution, where n is the length of the list of prices, iterating (once) forward through the list of prices as specified by the OP.\n",
    "\n",
    "> The idea is that each new day is a potential to buy. We can keep these items in a list and we can guarantee the list has descending order of price. However, rather than continue with an explanation, you can read the code or see an example attached at the end."
   ]
  },
  {
   "cell_type": "code",
   "execution_count": 36,
   "metadata": {},
   "outputs": [],
   "source": [
    "class Solution:\n",
    "    def maxProfit(self, prices) -> int:\n",
    "        if len(prices) == 0:\n",
    "            return 0\n",
    "        \n",
    "        potential_to_buy = [{\"value\": prices[0], \"qty\": 1}]\n",
    "        \n",
    "        gain = 0\n",
    "        for price in prices[1:]:\n",
    "            purchases_made = 0\n",
    "            \n",
    "            while(len(potential_to_buy) > 0):\n",
    "                x = potential_to_buy[-1]\n",
    "                value = x[\"value\"]\n",
    "                qty = x[\"qty\"]\n",
    "                \n",
    "                if value < price:\n",
    "                    potential_to_buy.pop()\n",
    "                    purchases_made += qty\n",
    "                    gain += (price-value)*qty\n",
    "                    \n",
    "                elif value > price:\n",
    "                    new_entry = {\n",
    "                        \"value\": price,\n",
    "                        \"qty\": purchases_made+1\n",
    "                    }\n",
    "                    potential_to_buy.append(new_entry)\n",
    "                    break\n",
    "                    \n",
    "                elif value == price:\n",
    "                    x[\"qty\"] += 1\n",
    "                    break\n",
    "                \n",
    "            if len(potential_to_buy) == 0:\n",
    "                new_entry = {\n",
    "                    \"value\": price,\n",
    "                    \"qty\": purchases_made+1\n",
    "                }\n",
    "                \n",
    "                potential_to_buy.append(new_entry)\n",
    "        \n",
    "        return gain"
   ]
  },
  {
   "cell_type": "markdown",
   "metadata": {},
   "source": [
    "After my solution, I gave the following example:\n",
    "\n",
    "> Consider the list of prices `[$5, $1, $2, $6, $1, $3]`.\n",
    "\n",
    "> Day 1. Store the potential buy with a quantity of 1: `[($5, 1)]`  \n",
    "> Day 2. Check to see how the new price of \\$1 compares to the smallest, \\$5. It's less. So append to the list. `[($5, 1), ($1, 1)]`  \n",
    "> Day 3. Do a check and we see \\$2 is more than the smallest \\$1. In our mind we say, let's go ahead and \"Purchase Day 2 and Sell Day 3.\" Go to the next last item which is now `($5, 1)`. It's more expensive than current price so we are done. Our total gains has been \\$1. We append `($2, 2)` to the list. Here the quantity is two because represents a future potential of both Day 2 and Day 3. We'll see soon enough. The list is currently `[($5, 1), ($2, 2)]`  \n",
    "> Day 4. Do a check and we see \\$6 is more than the smallest \\$2. Here we have `($6 - $2)*2 = $8` new gain, plus the \\$1 we previously gained, for a total of \\$9 gain. Effectively what has happened is we update our old decision to purchase and sell to \"Purchase Day 2, Sell Day 4\" and a new additional \"Purchase Day 3, Sell Day 4.\" But we're not done. We have to check the next item which is `($5, 1)`. \\$6 is more than \\$5 so we make a purchase-sale and add to our gains. The list is empty and so we append `($6, 4)` to our list. The list is now `[($6, 4)]`.  \n",
    "\n",
    "> The exercise continues as such and we can convince ourselves that the logic is sound."
   ]
  },
  {
   "cell_type": "code",
   "execution_count": 42,
   "metadata": {
    "collapsed": true
   },
   "outputs": [],
   "source": [
    "s = Solution()"
   ]
  },
  {
   "cell_type": "code",
   "execution_count": 43,
   "metadata": {},
   "outputs": [
    {
     "data": {
      "text/plain": [
       "0"
      ]
     },
     "execution_count": 43,
     "metadata": {},
     "output_type": "execute_result"
    }
   ],
   "source": [
    "s.maxProfit([7, 5, 4, 2, 1]) # Expect 0"
   ]
  },
  {
   "cell_type": "code",
   "execution_count": 44,
   "metadata": {},
   "outputs": [
    {
     "data": {
      "text/plain": [
       "11"
      ]
     },
     "execution_count": 44,
     "metadata": {},
     "output_type": "execute_result"
    }
   ],
   "source": [
    "s.maxProfit([1, 2, 6, 1, 3]) # Expect 11"
   ]
  },
  {
   "cell_type": "code",
   "execution_count": 45,
   "metadata": {},
   "outputs": [
    {
     "data": {
      "text/plain": [
       "5"
      ]
     },
     "execution_count": 45,
     "metadata": {},
     "output_type": "execute_result"
    }
   ],
   "source": [
    "s.maxProfit([12, 12, 13, 14]) # Expect 5"
   ]
  },
  {
   "cell_type": "code",
   "execution_count": 46,
   "metadata": {},
   "outputs": [
    {
     "data": {
      "text/plain": [
       "89"
      ]
     },
     "execution_count": 46,
     "metadata": {},
     "output_type": "execute_result"
    }
   ],
   "source": [
    "s.maxProfit([10, 12, 15, 12, 31, 24, 23, 10, 4, 14]) # Expect 89"
   ]
  },
  {
   "cell_type": "code",
   "execution_count": null,
   "metadata": {
    "collapsed": true
   },
   "outputs": [],
   "source": []
  }
 ],
 "metadata": {
  "kernelspec": {
   "display_name": "Python 3",
   "language": "python",
   "name": "python3"
  },
  "language_info": {
   "codemirror_mode": {
    "name": "ipython",
    "version": 3
   },
   "file_extension": ".py",
   "mimetype": "text/x-python",
   "name": "python",
   "nbconvert_exporter": "python",
   "pygments_lexer": "ipython3",
   "version": "3.6.1"
  }
 },
 "nbformat": 4,
 "nbformat_minor": 2
}
