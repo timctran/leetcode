{
 "cells": [
  {
   "cell_type": "markdown",
   "metadata": {},
   "source": [
    "Given a set of candidate numbers (candidates) (without duplicates) and a target number (target), find all unique combinations in candidates where the candidate numbers sums to target.\n",
    "\n",
    "The same repeated number may be chosen from candidates unlimited number of times.\n",
    "\n",
    "Note:\n",
    "* All numbers (including target) will be positive integers.\n",
    "* The solution set must not contain duplicate combinations."
   ]
  },
  {
   "cell_type": "markdown",
   "metadata": {},
   "source": [
    "So it seems to me like a recursive problem.\n",
    "\n",
    "And I can imagine it being O(n\\*m) where n is the number of candidates and m is the target."
   ]
  },
  {
   "cell_type": "code",
   "execution_count": 83,
   "metadata": {},
   "outputs": [],
   "source": [
    "from collections import Counter\n",
    "\n",
    "class hashableCounter(Counter):\n",
    "    def __hash__(self):\n",
    "        return hash(tuple(sorted(self.items())))\n",
    "\n",
    "class Solution:\n",
    "    def combinationSum(self, candidates, target: int):\n",
    "        D = {0: set([hashableCounter()])}\n",
    "        \n",
    "        for i in range(1, target+1):\n",
    "            for candidate in candidates:\n",
    "                if i-candidate in D:\n",
    "                    for base in D[i-candidate]:\n",
    "                        base = base.copy()\n",
    "                        base.update([candidate])\n",
    "                        D.setdefault(i, set()).add(base)\n",
    "        \n",
    "        return [list(x.elements()) for x in D.get(target, [])]"
   ]
  },
  {
   "cell_type": "markdown",
   "metadata": {},
   "source": [
    "Runtime: 188 ms, faster than 13.15% of Python3 online submissions for Combination Sum.  \n",
    "Memory Usage: 15 MB, less than 6.06% of Python3 online submissions for Combination Sum.\n",
    "\n",
    "I read a different solution which solved the uniqueness by iterating candidates before iterating through the dp states.\n",
    "\n",
    "```\n",
    "        for candidate in candidates:\n",
    "            for i in range(candidate, target+1):\n",
    "```\n",
    "\n",
    "versus my iteration\n",
    "\n",
    "```\n",
    "        for i in range(1, target+1):\n",
    "            for candidate in candidates:\n",
    "```\n",
    "            "
   ]
  },
  {
   "cell_type": "markdown",
   "metadata": {},
   "source": [
    "# Test Cases"
   ]
  },
  {
   "cell_type": "code",
   "execution_count": 84,
   "metadata": {},
   "outputs": [
    {
     "data": {
      "text/plain": [
       "[[7], [3, 2, 2]]"
      ]
     },
     "execution_count": 84,
     "metadata": {},
     "output_type": "execute_result"
    }
   ],
   "source": [
    "s = Solution()\n",
    "s.combinationSum([2,3,6,7], 7)"
   ]
  },
  {
   "cell_type": "code",
   "execution_count": 85,
   "metadata": {},
   "outputs": [
    {
     "data": {
      "text/plain": [
       "[[2, 2, 2, 2], [2, 3, 3], [5, 3]]"
      ]
     },
     "execution_count": 85,
     "metadata": {},
     "output_type": "execute_result"
    }
   ],
   "source": [
    "s = Solution()\n",
    "s.combinationSum([3,2,5], 8)"
   ]
  },
  {
   "cell_type": "code",
   "execution_count": 86,
   "metadata": {},
   "outputs": [
    {
     "data": {
      "text/plain": [
       "[]"
      ]
     },
     "execution_count": 86,
     "metadata": {},
     "output_type": "execute_result"
    }
   ],
   "source": [
    "s = Solution()\n",
    "s.combinationSum([3,5], 7)"
   ]
  },
  {
   "cell_type": "code",
   "execution_count": 87,
   "metadata": {},
   "outputs": [
    {
     "data": {
      "text/plain": [
       "[[4, 3, 3, 2, 2, 2, 2, 2, 2],\n",
       " [4, 4, 2, 2, 2, 2, 2, 2, 2],\n",
       " [4, 2, 2, 2, 2, 2, 2, 2, 2, 2],\n",
       " [4, 4, 4, 3, 3, 2, 2],\n",
       " [4, 4, 4, 2, 2, 2, 2, 2],\n",
       " [3, 3, 2, 2, 2, 2, 2, 2, 2, 2],\n",
       " [3, 3, 3, 3, 2, 2, 2, 2, 2],\n",
       " [4, 4, 4, 4, 2, 2, 2],\n",
       " [4, 3, 3, 3, 3, 2, 2, 2],\n",
       " [3, 3, 3, 3, 3, 3, 2, 2],\n",
       " [4, 4, 4, 4, 3, 3],\n",
       " [4, 4, 3, 3, 2, 2, 2, 2],\n",
       " [2, 2, 2, 2, 2, 2, 2, 2, 2, 2, 2],\n",
       " [4, 3, 3, 3, 3, 3, 3],\n",
       " [4, 4, 4, 4, 4, 2],\n",
       " [4, 4, 3, 3, 3, 3, 2]]"
      ]
     },
     "execution_count": 87,
     "metadata": {},
     "output_type": "execute_result"
    }
   ],
   "source": [
    "s = Solution()\n",
    "s.combinationSum([2,3,4], 22)"
   ]
  },
  {
   "cell_type": "code",
   "execution_count": null,
   "metadata": {
    "collapsed": true
   },
   "outputs": [],
   "source": []
  }
 ],
 "metadata": {
  "kernelspec": {
   "display_name": "Python 3",
   "language": "python",
   "name": "python3"
  },
  "language_info": {
   "codemirror_mode": {
    "name": "ipython",
    "version": 3
   },
   "file_extension": ".py",
   "mimetype": "text/x-python",
   "name": "python",
   "nbconvert_exporter": "python",
   "pygments_lexer": "ipython3",
   "version": "3.6.1"
  }
 },
 "nbformat": 4,
 "nbformat_minor": 2
}
