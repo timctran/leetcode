{
 "cells": [
  {
   "cell_type": "code",
   "execution_count": 70,
   "metadata": {
    "collapsed": true
   },
   "outputs": [],
   "source": [
    "class Solution:\n",
    "    def searchRange(self, nums, target):\n",
    "        n = len(nums)\n",
    "        if n == 0:\n",
    "            return [-1, -1]\n",
    "        \n",
    "        l1, r1, l2, r2 = 0, n-1, 0, n-1\n",
    "        while(l1<r1-1):\n",
    "            m1 = (l1+r1)//2\n",
    "            v = nums[m1]\n",
    "            if v >= target:\n",
    "                r1 = m1\n",
    "            elif v < target:\n",
    "                l1 = m1\n",
    "            # print(l1, r1)\n",
    "            \n",
    "        if nums[l1] != target and nums[r1] != target:\n",
    "            return [-1, -1]\n",
    "        \n",
    "        # print(\"^Determined lower bound.\")\n",
    "        \n",
    "        while(l2<r2-1):\n",
    "            m2 = (l2+r2)//2\n",
    "            v = nums[m2]\n",
    "            if v <= target:\n",
    "                l2 = m2\n",
    "            elif v > target:\n",
    "                r2 = m2\n",
    "            # print(l2, r2)\n",
    "        \n",
    "        # print(l1, r1, l2, r2)\n",
    "        \n",
    "        if nums[r2] == target:\n",
    "            l2 = r2\n",
    "        if nums[l1] == target:\n",
    "            r1 = l1\n",
    "        \n",
    "        return [r1, l2]\n",
    "        "
   ]
  },
  {
   "cell_type": "code",
   "execution_count": 71,
   "metadata": {
    "collapsed": true
   },
   "outputs": [],
   "source": [
    "s = Solution()"
   ]
  },
  {
   "cell_type": "code",
   "execution_count": 72,
   "metadata": {},
   "outputs": [
    {
     "name": "stdout",
     "output_type": "stream",
     "text": [
      "Output: [3, 4]\n",
      "Expected: [3, 4]\n"
     ]
    }
   ],
   "source": [
    "# \"Standard\" case\n",
    "print(\"Output:\", s.searchRange([5, 7, 7, 8, 8, 10], 8))\n",
    "print(\"Expected:\", [3, 4])"
   ]
  },
  {
   "cell_type": "code",
   "execution_count": 73,
   "metadata": {},
   "outputs": [
    {
     "name": "stdout",
     "output_type": "stream",
     "text": [
      "Output: [-1, -1]\n",
      "Expected: [-1, -1]\n"
     ]
    }
   ],
   "source": [
    "# Case when there's no target\n",
    "print(\"Output:\", s.searchRange([5, 7, 7, 7, 7, 10], 8))\n",
    "print(\"Expected:\", [-1, -1])"
   ]
  },
  {
   "cell_type": "code",
   "execution_count": 74,
   "metadata": {},
   "outputs": [
    {
     "name": "stdout",
     "output_type": "stream",
     "text": [
      "Output: [5, 5]\n",
      "Expected: [5, 5]\n"
     ]
    }
   ],
   "source": [
    "# This case tests considers a single target\n",
    "print(\"Output:\", s.searchRange([5, 7, 7, 7, 7, 8, 10], 8))\n",
    "print(\"Expected:\", [5, 5])"
   ]
  },
  {
   "cell_type": "code",
   "execution_count": 75,
   "metadata": {},
   "outputs": [
    {
     "name": "stdout",
     "output_type": "stream",
     "text": [
      "Output: [5, 6]\n",
      "Expected: [5, 6]\n"
     ]
    }
   ],
   "source": [
    "# This case tests when target occurs at right edge\n",
    "print(\"Output:\", s.searchRange([5, 7, 7, 7, 7, 8, 8], 8))\n",
    "print(\"Expected:\", [5, 6])"
   ]
  },
  {
   "cell_type": "code",
   "execution_count": 76,
   "metadata": {},
   "outputs": [
    {
     "name": "stdout",
     "output_type": "stream",
     "text": [
      "Output: [0, 1]\n",
      "Expected: [0, 1]\n"
     ]
    }
   ],
   "source": [
    "# This case tests when target occurs at left edge\n",
    "print(\"Output:\", s.searchRange([8, 8, 9, 10, 11, 12, 13], 8))\n",
    "print(\"Expected:\", [0, 1])"
   ]
  },
  {
   "cell_type": "code",
   "execution_count": 77,
   "metadata": {},
   "outputs": [
    {
     "name": "stdout",
     "output_type": "stream",
     "text": [
      "Output: [0, 0]\n",
      "Expected: [0, 0]\n"
     ]
    }
   ],
   "source": [
    "# This case tests when single target occurs at left edge\n",
    "print(\"Output:\", s.searchRange([8, 9, 10, 11, 12, 13], 8))\n",
    "print(\"Expected:\", [0, 0])"
   ]
  },
  {
   "cell_type": "code",
   "execution_count": 78,
   "metadata": {},
   "outputs": [
    {
     "name": "stdout",
     "output_type": "stream",
     "text": [
      "Output: [6, 6]\n",
      "Expected: [6, 6]\n"
     ]
    }
   ],
   "source": [
    "# This case tests when single target occurs at right edge\n",
    "print(\"Output:\", s.searchRange([5, 7, 7, 7, 7, 7, 8], 8))\n",
    "print(\"Expected:\", [6, 6])"
   ]
  },
  {
   "cell_type": "code",
   "execution_count": 79,
   "metadata": {},
   "outputs": [
    {
     "name": "stdout",
     "output_type": "stream",
     "text": [
      "Output: [0, 0]\n",
      "Expected: [0, 0]\n"
     ]
    }
   ],
   "source": [
    "# This case tests when list is short\n",
    "print(\"Output:\", s.searchRange([8], 8))\n",
    "print(\"Expected:\", [0, 0])"
   ]
  },
  {
   "cell_type": "code",
   "execution_count": 80,
   "metadata": {},
   "outputs": [
    {
     "name": "stdout",
     "output_type": "stream",
     "text": [
      "Output: [-1, -1]\n",
      "Expected: [-1, -1]\n"
     ]
    }
   ],
   "source": [
    "# This case tests when list is short\n",
    "print(\"Output:\", s.searchRange([7], 8))\n",
    "print(\"Expected:\", [-1, -1])"
   ]
  },
  {
   "cell_type": "code",
   "execution_count": 81,
   "metadata": {},
   "outputs": [
    {
     "name": "stdout",
     "output_type": "stream",
     "text": [
      "Output: [-1, -1]\n",
      "Expected: [-1, -1]\n"
     ]
    }
   ],
   "source": [
    "# This case tests when list is empty\n",
    "print(\"Output:\", s.searchRange([], 8))\n",
    "print(\"Expected:\", [-1, -1])"
   ]
  },
  {
   "cell_type": "code",
   "execution_count": null,
   "metadata": {
    "collapsed": true
   },
   "outputs": [],
   "source": []
  }
 ],
 "metadata": {
  "kernelspec": {
   "display_name": "Python 3",
   "language": "python",
   "name": "python3"
  },
  "language_info": {
   "codemirror_mode": {
    "name": "ipython",
    "version": 3
   },
   "file_extension": ".py",
   "mimetype": "text/x-python",
   "name": "python",
   "nbconvert_exporter": "python",
   "pygments_lexer": "ipython3",
   "version": "3.6.1"
  }
 },
 "nbformat": 4,
 "nbformat_minor": 2
}
