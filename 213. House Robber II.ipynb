{
 "cells": [
  {
   "cell_type": "markdown",
   "metadata": {},
   "source": [
    "You are a professional robber planning to rob houses along a street. Each house has a certain amount of money stashed. All houses at this place are **arranged in a circle**. That means the first house is the neighbor of the last one. Meanwhile, adjacent houses have security system connected and **it will automatically contact the police if two adjacent houses were broken into on the same night**.\n",
    "\n",
    "Given a list of non-negative integers representing the amount of money of each house, determine the maximum amount of money you can rob tonight **without alerting the police**."
   ]
  },
  {
   "cell_type": "markdown",
   "metadata": {},
   "source": [
    "The variation is the circle. I think it makes sense to break it up into two cases. Fix a house (`nums[0]`) as the first house. Case 1, don't steal from the first house, retain the option to steal from the last house (`nums[n-1]`). Case 2, steal from the first house, cannot steal from the last house. Thus, we have reduced the circular problem into two linear problems one with `nums[1:]` (Case 1) and one with `nums[:-1]` (Case 2).\n",
    "\n",
    "Note that my initial thought process involved applying the previous solution to nums and then trying to handle the case of the last house differently. In that situation, in my head I felt like I would also have to keep track of whether or not the optimal solution uses the first house. I might try writing that solution up afterwards."
   ]
  },
  {
   "cell_type": "code",
   "execution_count": 11,
   "metadata": {},
   "outputs": [],
   "source": [
    "class Solution:\n",
    "    def rob(self, nums) -> int:\n",
    "        if len(nums) > 1:\n",
    "            a = self.robLinear(nums[1:])\n",
    "            b = self.robLinear(nums[:-1])\n",
    "            return max(a, b)\n",
    "        elif len(nums) == 1:\n",
    "            return nums[0]\n",
    "        else:\n",
    "            return 0\n",
    "    \n",
    "    # This method comes from the first House Robber problem\n",
    "    def robLinear(self, nums) -> int:\n",
    "        D = [0, 0, 0]\n",
    "        for num in nums:\n",
    "            D.append(max(D[-3], D[-2]) + num) \n",
    "            \n",
    "        return max(D[-2], D[-1])"
   ]
  },
  {
   "cell_type": "markdown",
   "metadata": {},
   "source": [
    "24 ms (93.20%) and 12.8 MB (100.00%)  \n",
    "Runtime Complexity: O(n), n is length of `nums`  \n",
    "Extra Space Complexity: O(n)"
   ]
  },
  {
   "cell_type": "markdown",
   "metadata": {},
   "source": [
    "# Testcases"
   ]
  },
  {
   "cell_type": "code",
   "execution_count": 12,
   "metadata": {},
   "outputs": [],
   "source": [
    "class SolutionTester(Solution):\n",
    "    def test(self):\n",
    "        testcase1 = ([2, 3, 2], 3)     # Example 1 on LeetCode\n",
    "        testcase2 = ([1, 2, 3, 1], 4) # Example 2 on LeetCode\n",
    "        \n",
    "        # This third testcase checks that the solution correctly\n",
    "        # skips two houses when necessary.\n",
    "        testcase3 = ([3, 5, 100, 2, 3, 100, 1, 1, 100], 300)\n",
    "        testcase4 = ([5, 100, 2, 3, 100, 1, 1, 100, 3], 300)\n",
    "        testcase5 = ([100, 2, 3, 100, 1, 1, 100, 3, 5], 300)\n",
    "        \n",
    "        testcase6 = ([4, 3], 4)\n",
    "        testcase7 = ([3, 4], 4)\n",
    "        testcase8 = ([6], 6)\n",
    "        testcase9 = ([], 0)\n",
    "        \n",
    "        testcases = [testcase1, testcase2, testcase3,\n",
    "                     testcase4, testcase5, testcase6, \n",
    "                     testcase7, testcase8, testcase9]\n",
    "        \n",
    "        for test_input, expected_output in testcases:\n",
    "            print(\"Input:\", test_input)\n",
    "            sol_output = self.rob(test_input)\n",
    "            print(\"Output:\", sol_output)\n",
    "            print(\"Expected Output:\", expected_output)\n",
    "            assert sol_output == expected_output, \"Testcase failed!\"\n",
    "            print()"
   ]
  },
  {
   "cell_type": "code",
   "execution_count": 13,
   "metadata": {},
   "outputs": [],
   "source": [
    "s = SolutionTester()"
   ]
  },
  {
   "cell_type": "code",
   "execution_count": 14,
   "metadata": {},
   "outputs": [
    {
     "name": "stdout",
     "output_type": "stream",
     "text": [
      "Input: [2, 3, 2]\n",
      "Output: 3\n",
      "Expected Output: 3\n",
      "\n",
      "Input: [1, 2, 3, 1]\n",
      "Output: 4\n",
      "Expected Output: 4\n",
      "\n",
      "Input: [3, 5, 100, 2, 3, 100, 1, 1, 100]\n",
      "Output: 300\n",
      "Expected Output: 300\n",
      "\n",
      "Input: [5, 100, 2, 3, 100, 1, 1, 100, 3]\n",
      "Output: 300\n",
      "Expected Output: 300\n",
      "\n",
      "Input: [100, 2, 3, 100, 1, 1, 100, 3, 5]\n",
      "Output: 300\n",
      "Expected Output: 300\n",
      "\n",
      "Input: [4, 3]\n",
      "Output: 4\n",
      "Expected Output: 4\n",
      "\n",
      "Input: [3, 4]\n",
      "Output: 4\n",
      "Expected Output: 4\n",
      "\n",
      "Input: [6]\n",
      "Output: 6\n",
      "Expected Output: 6\n",
      "\n",
      "Input: []\n",
      "Output: 0\n",
      "Expected Output: 0\n",
      "\n"
     ]
    }
   ],
   "source": [
    "s.test()"
   ]
  },
  {
   "cell_type": "code",
   "execution_count": null,
   "metadata": {},
   "outputs": [],
   "source": []
  }
 ],
 "metadata": {
  "kernelspec": {
   "display_name": "Python 3.8 for Leetcode",
   "language": "python",
   "name": "leetcode"
  },
  "language_info": {
   "codemirror_mode": {
    "name": "ipython",
    "version": 3
   },
   "file_extension": ".py",
   "mimetype": "text/x-python",
   "name": "python",
   "nbconvert_exporter": "python",
   "pygments_lexer": "ipython3",
   "version": "3.8.1"
  }
 },
 "nbformat": 4,
 "nbformat_minor": 4
}
