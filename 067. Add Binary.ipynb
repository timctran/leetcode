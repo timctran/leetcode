{
 "cells": [
  {
   "cell_type": "markdown",
   "metadata": {},
   "source": [
    "Given two binary strings, return their sum (also a binary string).\n",
    "\n",
    "The input strings are both non-empty and contains only characters 1 or 0."
   ]
  },
  {
   "cell_type": "code",
   "execution_count": 9,
   "metadata": {
    "collapsed": true
   },
   "outputs": [],
   "source": [
    "class Solution:\n",
    "    def addBinary(self, a: str, b: str) -> str:\n",
    "        n = len(a)\n",
    "        m = len(b)\n",
    "        N = max(n, m)\n",
    "        \n",
    "        if n < m:\n",
    "            a = \"0\"*(m-n+1) + a\n",
    "            b = \"0\" + b\n",
    "        else:\n",
    "            b = \"0\"*(n-m+1) + b\n",
    "            a = \"0\" + a\n",
    "        \n",
    "        # A map of value and carry\n",
    "        addition_map = {\n",
    "            0: (0, 0),\n",
    "            1: (1, 0),\n",
    "            2: (0, 1),\n",
    "            3: (1, 1)\n",
    "        }\n",
    "        \n",
    "        result = []\n",
    "        carry = 0\n",
    "        for i in range(N, 0, -1):\n",
    "            value_a = int(a[i])\n",
    "            value_b = int(b[i])\n",
    "            total_value = carry + value_a + value_b\n",
    "            val, carry = addition_map[total_value]\n",
    "            result.append(str(val))\n",
    "            \n",
    "        # We have a final carry to resolve.\n",
    "        if carry == 1:\n",
    "            result.append(str(carry))\n",
    "        \n",
    "        result.reverse()\n",
    "        \n",
    "        return \"\".join(result)"
   ]
  },
  {
   "cell_type": "markdown",
   "metadata": {},
   "source": [
    "Runtime: 32 ms, faster than 63.46% of Python3 online submissions for Add Binary.  \n",
    "Memory Usage: 13.8 MB, less than 5.41% of Python3 online submissions for Add Binary."
   ]
  },
  {
   "cell_type": "code",
   "execution_count": 38,
   "metadata": {
    "collapsed": true
   },
   "outputs": [],
   "source": [
    "class Solution:\n",
    "    def addBinary(self, a: str, b: str) -> str:\n",
    "        n = len(a)\n",
    "        m = len(b)\n",
    "        N = min(n, m)\n",
    "        M = max(n, m)\n",
    "        \n",
    "        # ensure len(a) is longer or equal to len(b)\n",
    "        if n < m:\n",
    "            a, b = b, a\n",
    "        \n",
    "        # A map of value and carry\n",
    "        addition_map = {\n",
    "            \"0\": {\n",
    "                \"0\": {\n",
    "                    \"0\": (\"0\", \"0\"),\n",
    "                    \"1\": (\"1\", \"0\")\n",
    "                },\n",
    "                \"1\": {\n",
    "                    \"0\": (\"1\", \"0\"),\n",
    "                    \"1\": (\"0\", \"1\")\n",
    "                },\n",
    "            },\n",
    "            \"1\": { \n",
    "                \"0\": {\n",
    "                    \"0\": (\"1\", \"0\"),\n",
    "                    \"1\": (\"0\", \"1\")\n",
    "                },\n",
    "                \"1\": {\n",
    "                    \"0\": (\"0\", \"1\"),\n",
    "                    \"1\": (\"1\", \"1\")\n",
    "                }\n",
    "            }\n",
    "        }\n",
    "        \n",
    "        result = []\n",
    "        carry = \"0\"\n",
    "        for i in range(-1, -N-1, -1):\n",
    "            val, carry = addition_map[b[i]][a[i]][carry]\n",
    "            result.append(val)\n",
    "            \n",
    "        # Continue with the longer part of \"a\"\n",
    "        for i in range(-N-1, -M-1, -1):\n",
    "            val, carry = addition_map[\"0\"][a[i]][carry]\n",
    "            result.append(val)\n",
    "            \n",
    "        # Resolve the final carry\n",
    "        if carry == \"1\":\n",
    "            result.append(str(carry))\n",
    "        \n",
    "        result.reverse()\n",
    "        \n",
    "        return \"\".join(result)"
   ]
  },
  {
   "cell_type": "markdown",
   "metadata": {},
   "source": [
    "Runtime: 36 ms, faster than 36.45% of Python3 online submissions for Add Binary.  \n",
    "Memory Usage: 14 MB, less than 5.41% of Python3 online submissions for Add Binary.\n",
    "\n",
    "I gave the above new solution some thought and then figured I can just cast these strings to ints and add them together. I'll then get either 0's, 1's, or 2's. Note that in Python 3, `int` is unbounded."
   ]
  },
  {
   "cell_type": "code",
   "execution_count": 52,
   "metadata": {
    "collapsed": true
   },
   "outputs": [],
   "source": [
    "class Solution:\n",
    "    def addBinary(self, a: str, b: str) -> str:\n",
    "        c = int(a) + int(b)\n",
    "        \n",
    "        result = []\n",
    "        carry = 0\n",
    "        while c > 0:\n",
    "            value = c % 10 + carry\n",
    "            c = c//10\n",
    "            \n",
    "            result.append(str(value % 2))\n",
    "            carry = value//2\n",
    "        \n",
    "        # Resolve the final carry\n",
    "        if carry == 1:\n",
    "            result.append(\"1\")\n",
    "        \n",
    "        if result:\n",
    "            result.reverse()\n",
    "            return \"\".join(result)\n",
    "        else:\n",
    "            return \"0\""
   ]
  },
  {
   "cell_type": "markdown",
   "metadata": {},
   "source": [
    "Runtime: 32 ms, faster than 63.46% of Python3 online submissions for Add Binary.  \n",
    "Memory Usage: 14 MB, less than 5.41% of Python3 online submissions for Add Binary."
   ]
  },
  {
   "cell_type": "code",
   "execution_count": 68,
   "metadata": {
    "collapsed": true
   },
   "outputs": [],
   "source": [
    "class Solution:\n",
    "    def addBinary(self, a: str, b: str) -> str:\n",
    "        c = int(a) + int(b)\n",
    "        \n",
    "        result = \"\"\n",
    "        carry = 0\n",
    "        while c > 0:\n",
    "            c, value = divmod(c+carry, 10)\n",
    "            carry, next_digit = divmod(value, 2)\n",
    "            result = str(next_digit) + result\n",
    "        \n",
    "        # Resolve the final carry\n",
    "        if carry == 1:\n",
    "            result = \"1\" + result\n",
    "        \n",
    "        return result if result else \"0\""
   ]
  },
  {
   "cell_type": "markdown",
   "metadata": {},
   "source": [
    "Runtime: 32 ms, faster than 63.57% of Python3 online submissions for Add Binary.  \n",
    "Memory Usage: 13.6 MB, less than 5.41% of Python3 online submissions for Add Binary.\n",
    "\n",
    "I'm curious if the optimal solution makes use of Python's `bin()`. Looking through the Discussion section, I don't know if it's the most optimal yet, but it would look like the following."
   ]
  },
  {
   "cell_type": "code",
   "execution_count": 98,
   "metadata": {},
   "outputs": [],
   "source": [
    "class Solution:\n",
    "    def addBinary(self, a: str, b: str) -> str:\n",
    "        # Convert each binary string into a number\n",
    "        a = int(a, 2)\n",
    "        b = int(b, 2)\n",
    "        \n",
    "        # Convert their sum back into a binary literal (and omit the prefix '0b')\n",
    "        return bin(a+b)[2:]"
   ]
  },
  {
   "cell_type": "markdown",
   "metadata": {},
   "source": [
    "Runtime: 36 ms, faster than 36.58% of Python3 online submissions for Add Binary.  \n",
    "Memory Usage: 13.8 MB, less than 5.41% of Python3 online submissions for Add Binary.\n",
    "\n",
    "Huh. No difference in speed or memory.\n",
    "\n",
    "Someone else posted the above solution but whose ending uses `format()`:"
   ]
  },
  {
   "cell_type": "code",
   "execution_count": 99,
   "metadata": {
    "collapsed": true
   },
   "outputs": [],
   "source": [
    "class Solution:\n",
    "    def addBinary(self, a: str, b: str) -> str:\n",
    "        a = int(a, 2)\n",
    "        b = int(b, 2)        \n",
    "        return format(a+b, 'b')"
   ]
  },
  {
   "cell_type": "markdown",
   "metadata": {},
   "source": [
    "It might be slower. At this point I guess it's best to take LeetCode's runtime determination with a grain of salt.\n",
    "\n",
    "Runtime: 40 ms, faster than 15.48% of Python3 online submissions for Add Binary.  \n",
    "Memory Usage: 13.8 MB, less than 5.41% of Python3 online submissions for Add Binary."
   ]
  },
  {
   "cell_type": "markdown",
   "metadata": {},
   "source": [
    "# Test Cases"
   ]
  },
  {
   "cell_type": "code",
   "execution_count": 100,
   "metadata": {
    "collapsed": true
   },
   "outputs": [],
   "source": [
    "s = Solution()"
   ]
  },
  {
   "cell_type": "code",
   "execution_count": 101,
   "metadata": {},
   "outputs": [
    {
     "data": {
      "text/plain": [
       "'0'"
      ]
     },
     "execution_count": 101,
     "metadata": {},
     "output_type": "execute_result"
    }
   ],
   "source": [
    "s.addBinary(\"0\", \"0\")\n",
    "\n",
    "# \"0\""
   ]
  },
  {
   "cell_type": "code",
   "execution_count": 102,
   "metadata": {},
   "outputs": [
    {
     "data": {
      "text/plain": [
       "'1'"
      ]
     },
     "execution_count": 102,
     "metadata": {},
     "output_type": "execute_result"
    }
   ],
   "source": [
    "s.addBinary(\"0\", \"1\")\n",
    "\n",
    "# \"1\""
   ]
  },
  {
   "cell_type": "code",
   "execution_count": 103,
   "metadata": {},
   "outputs": [
    {
     "data": {
      "text/plain": [
       "'1'"
      ]
     },
     "execution_count": 103,
     "metadata": {},
     "output_type": "execute_result"
    }
   ],
   "source": [
    "s.addBinary(\"1\", \"0\")\n",
    "\n",
    "# \"1\""
   ]
  },
  {
   "cell_type": "code",
   "execution_count": 104,
   "metadata": {},
   "outputs": [
    {
     "data": {
      "text/plain": [
       "'10'"
      ]
     },
     "execution_count": 104,
     "metadata": {},
     "output_type": "execute_result"
    }
   ],
   "source": [
    "s.addBinary(\"1\", \"1\")\n",
    "\n",
    "# \"10\""
   ]
  },
  {
   "cell_type": "code",
   "execution_count": 105,
   "metadata": {},
   "outputs": [
    {
     "data": {
      "text/plain": [
       "'1001'"
      ]
     },
     "execution_count": 105,
     "metadata": {},
     "output_type": "execute_result"
    }
   ],
   "source": [
    "# a is longer and carry\n",
    "s.addBinary(\"110\", \"11\")\n",
    "\n",
    "# \"1001\""
   ]
  },
  {
   "cell_type": "code",
   "execution_count": 106,
   "metadata": {},
   "outputs": [
    {
     "data": {
      "text/plain": [
       "'1111'"
      ]
     },
     "execution_count": 106,
     "metadata": {},
     "output_type": "execute_result"
    }
   ],
   "source": [
    "s.addBinary(\"1100\", \"11\")\n",
    "\n",
    "# \"1111\""
   ]
  },
  {
   "cell_type": "code",
   "execution_count": 107,
   "metadata": {},
   "outputs": [
    {
     "data": {
      "text/plain": [
       "'111100'"
      ]
     },
     "execution_count": 107,
     "metadata": {},
     "output_type": "execute_result"
    }
   ],
   "source": [
    "# b is longer\n",
    "s.addBinary(\"1100\", \"110000\")\n",
    "\n",
    "# \"111100\""
   ]
  },
  {
   "cell_type": "code",
   "execution_count": 108,
   "metadata": {},
   "outputs": [
    {
     "data": {
      "text/plain": [
       "'1100010'"
      ]
     },
     "execution_count": 108,
     "metadata": {},
     "output_type": "execute_result"
    }
   ],
   "source": [
    "# same length\n",
    "s.addBinary(\"110010\", \"110000\")\n",
    "\n",
    "# \"1100010\""
   ]
  },
  {
   "cell_type": "code",
   "execution_count": 109,
   "metadata": {},
   "outputs": [
    {
     "data": {
      "text/plain": [
       "'11110'"
      ]
     },
     "execution_count": 109,
     "metadata": {},
     "output_type": "execute_result"
    }
   ],
   "source": [
    "# \"max\" addition\n",
    "s.addBinary(\"1111\", \"1111\")\n",
    "\n",
    "# \"11110\""
   ]
  },
  {
   "cell_type": "markdown",
   "metadata": {},
   "source": [
    "# A look back on an old attempt"
   ]
  },
  {
   "cell_type": "markdown",
   "metadata": {},
   "source": [
    "I attempted a solution to this problem in a text file a long time ago (the file is dated 7/22/2014 9:03PM and the problem has a timestamp 5:44).\n",
    "\n",
    "**Warning: This solution is incorrect and I talk about it below.**\n",
    "\n",
    "```\n",
    "def binarySum(a, b):\n",
    "\tfor i in range(len(b)):\n",
    "\t\tif b[i] == 1:\n",
    "\t\t\tnewPart = binaryPlusOne(a[i,-1])\n",
    "\t\t\ta = newPart + a[0,i]\n",
    "\treturn a\n",
    "\n",
    "def binaryPlusOne(a)\n",
    "\tc = a.reverse\n",
    "\tfor i in range(len(c)):\n",
    "\t\tif c[i] == 0:\n",
    "\t\t\tc[i] = 1\n",
    "\t\t\tbreak\n",
    "\t\telse:\n",
    "\t\t\tc[i] = 0\n",
    "\t\t\tif i == len(c)-1:\n",
    "\t\t\t\tc = c + \"1\"\n",
    "\treturn c.reverse\n",
    "```\n",
    "\n",
    "Looking at it today (20200425), I can see that the solution attempts to add `b` to `a` by iterating through `b` and updating `a`. However, right off the bat I made a major mistake which I also made today: iterating forward instead of backwards. That is, it makes more sense to read a number from right-to-left.\n",
    "\n",
    "At this point, I could attempt to fix the solution but it appears unintuitive and convoluted compared to the solution I wrote today."
   ]
  },
  {
   "cell_type": "code",
   "execution_count": null,
   "metadata": {
    "collapsed": true
   },
   "outputs": [],
   "source": []
  }
 ],
 "metadata": {
  "kernelspec": {
   "display_name": "Python 3",
   "language": "python",
   "name": "python3"
  },
  "language_info": {
   "codemirror_mode": {
    "name": "ipython",
    "version": 3
   },
   "file_extension": ".py",
   "mimetype": "text/x-python",
   "name": "python",
   "nbconvert_exporter": "python",
   "pygments_lexer": "ipython3",
   "version": "3.6.1"
  }
 },
 "nbformat": 4,
 "nbformat_minor": 2
}
