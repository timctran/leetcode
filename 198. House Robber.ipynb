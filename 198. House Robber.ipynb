{
 "cells": [
  {
   "cell_type": "markdown",
   "metadata": {},
   "source": [
    "You are a professional robber planning to rob houses along a street. Each house has a certain amount of money stashed, the only constraint stopping you from robbing each of them is that adjacent houses have security system connected and it will automatically contact the police if two adjacent houses were broken into on the same night.\n",
    "\n",
    "Given a list of non-negative integers representing the amount of money of each house, determine the maximum amount of money you can rob tonight without alerting the police."
   ]
  },
  {
   "cell_type": "markdown",
   "metadata": {},
   "source": [
    "So at each house, the robber steals or doesn't. If the robber steals then the max amount of money is the amount he steals plus the max amount of not stealing at the previous state. If he doesn't steal then take the max amount of both previous states. In any case, that's my intuition.\n",
    "\n",
    "With that intuition, I begin with implementing a solution that consumes space. Then when I have a solution I would determine how to reduce that space consumption."
   ]
  },
  {
   "cell_type": "code",
   "execution_count": 28,
   "metadata": {},
   "outputs": [],
   "source": [
    "class Solution:\n",
    "    def rob(self, nums) -> int:\n",
    "        D = [(0, 0), (0, 0)]\n",
    "        for num in nums:\n",
    "            D.append((max(D[-1]), D[-1][0]+num))\n",
    "            \n",
    "        return max(D[-1])"
   ]
  },
  {
   "cell_type": "markdown",
   "metadata": {},
   "source": [
    "Runtime Complexity: O(n), n is length of `nums`  \n",
    "Extra Space Complexity: O(n)\n",
    "\n",
    "So initially I thought that DP(n) would use DP(n-1) and DP(n-2), but it became apparent that the solution only uses the previous state. Hence we have the following code:"
   ]
  },
  {
   "cell_type": "code",
   "execution_count": 37,
   "metadata": {},
   "outputs": [],
   "source": [
    "class Solution:\n",
    "    def rob(self, nums) -> int:\n",
    "        no_steal, steal = 0, 0\n",
    "        for num in nums:\n",
    "            no_steal, steal = max(no_steal, steal), no_steal+num\n",
    "            \n",
    "        return max(no_steal, steal)"
   ]
  },
  {
   "cell_type": "markdown",
   "metadata": {},
   "source": [
    "32 ms (37.56%) and 12.9 MB (100.00%)  \n",
    "Runtime Complexity: O(n), n is length of `nums`  \n",
    "Extra Space Complexity: O(1)\n",
    "\n",
    "Perhaps my original thought about the two previous states would work differently."
   ]
  },
  {
   "cell_type": "code",
   "execution_count": 41,
   "metadata": {},
   "outputs": [],
   "source": [
    "class Solution:\n",
    "    def rob(self, nums) -> int:\n",
    "        D = [0, 0, 0]\n",
    "        for num in nums:\n",
    "            D.append(max(D[-3], D[-2]) + num) \n",
    "            \n",
    "        return max(D[-2], D[-1])"
   ]
  },
  {
   "cell_type": "markdown",
   "metadata": {},
   "source": [
    "28 ms (73.64%) and 12.9 MB (100.00%)  \n",
    "Runtime Complexity: O(n), n is length of `nums`  \n",
    "Extra Space Complexity: O(n)\n",
    "\n",
    "Perhaps we can just modify `nums` in-place."
   ]
  },
  {
   "cell_type": "code",
   "execution_count": 74,
   "metadata": {},
   "outputs": [],
   "source": [
    "class Solution:\n",
    "    def rob(self, nums) -> int:\n",
    "        nums.extend([0, 0, 0])\n",
    "        \n",
    "        nums[2] += nums[0]\n",
    "        \n",
    "        for i in range(3, len(nums)):\n",
    "            nums[i] += max(nums[i-2], nums[i-3]) \n",
    "            \n",
    "        return max(nums[-2], nums[-1])"
   ]
  },
  {
   "cell_type": "markdown",
   "metadata": {},
   "source": [
    "24 ms (92.26%) and 12.9 MB (97.73%)  \n",
    "Runtime Complexity: O(n), n is length of `nums`  \n",
    "Extra Space Complexity: O(1)"
   ]
  },
  {
   "cell_type": "markdown",
   "metadata": {},
   "source": [
    "# Testcases"
   ]
  },
  {
   "cell_type": "code",
   "execution_count": 75,
   "metadata": {},
   "outputs": [],
   "source": [
    "class SolutionTester(Solution):\n",
    "    def test(self):\n",
    "        testcase1 = ([1, 2, 3, 1], 4)     # Example 1 on LeetCode\n",
    "        testcase2 = ([2, 7, 9, 3, 1], 12) # Example 2 on LeetCode\n",
    "        \n",
    "        # This third testcase checks that the solution correctly\n",
    "        # skips two houses when necessary.\n",
    "        testcase3 = ([1, 3, 5, 100, 2, 3, 100, 1, 1, 100, 3], 303)\n",
    "        \n",
    "        testcase4 = ([4, 3], 4)\n",
    "        testcase5 = ([3, 4], 4)\n",
    "        testcase6 = ([6], 6)\n",
    "        testcase7 = ([], 0)\n",
    "        \n",
    "        testcases = [testcase1, testcase2, testcase3,\n",
    "                     testcase4, testcase5, testcase6, testcase7]\n",
    "        \n",
    "        for test_input, expected_output in testcases:\n",
    "            print(\"Input:\", test_input)\n",
    "            sol_output = self.rob(test_input)\n",
    "            print(\"Output:\", sol_output)\n",
    "            print(\"Expected Output:\", expected_output)\n",
    "            print(\"Correct\" if sol_output == expected_output else \"Incorrect\")\n",
    "            print()"
   ]
  },
  {
   "cell_type": "code",
   "execution_count": 76,
   "metadata": {},
   "outputs": [],
   "source": [
    "s = SolutionTester()"
   ]
  },
  {
   "cell_type": "code",
   "execution_count": 77,
   "metadata": {},
   "outputs": [
    {
     "name": "stdout",
     "output_type": "stream",
     "text": [
      "Input: [1, 2, 3, 1]\n",
      "Output: 4\n",
      "Expected Output: 4\n",
      "Correct\n",
      "\n",
      "Input: [2, 7, 9, 3, 1]\n",
      "Output: 12\n",
      "Expected Output: 12\n",
      "Correct\n",
      "\n",
      "Input: [1, 3, 5, 100, 2, 3, 100, 1, 1, 100, 3]\n",
      "Output: 303\n",
      "Expected Output: 303\n",
      "Correct\n",
      "\n",
      "Input: [4, 3]\n",
      "Output: 4\n",
      "Expected Output: 4\n",
      "Correct\n",
      "\n",
      "Input: [3, 4]\n",
      "Output: 4\n",
      "Expected Output: 4\n",
      "Correct\n",
      "\n",
      "Input: [6]\n",
      "Output: 6\n",
      "Expected Output: 6\n",
      "Correct\n",
      "\n",
      "Input: []\n",
      "Output: 0\n",
      "Expected Output: 0\n",
      "Correct\n",
      "\n"
     ]
    }
   ],
   "source": [
    "s.test()"
   ]
  },
  {
   "cell_type": "code",
   "execution_count": null,
   "metadata": {},
   "outputs": [],
   "source": []
  }
 ],
 "metadata": {
  "kernelspec": {
   "display_name": "Python 3.8 for Leetcode",
   "language": "python",
   "name": "leetcode"
  },
  "language_info": {
   "codemirror_mode": {
    "name": "ipython",
    "version": 3
   },
   "file_extension": ".py",
   "mimetype": "text/x-python",
   "name": "python",
   "nbconvert_exporter": "python",
   "pygments_lexer": "ipython3",
   "version": "3.8.1"
  }
 },
 "nbformat": 4,
 "nbformat_minor": 4
}
