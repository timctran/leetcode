{
 "cells": [
  {
   "cell_type": "markdown",
   "metadata": {},
   "source": [
    "You are given an n x n 2D matrix representing an image.\n",
    "\n",
    "Rotate the image by 90 degrees (clockwise).\n",
    "\n",
    "Note: You have to rotate the image in-place, which means you have to modify the input 2D matrix directly. DO NOT allocate another 2D matrix and do the rotation."
   ]
  },
  {
   "cell_type": "code",
   "execution_count": 1,
   "metadata": {},
   "outputs": [],
   "source": [
    "class Solution:\n",
    "    def rotate(self, matrix):\n",
    "        \"\"\"\n",
    "        Do not return anything, modify matrix in-place instead.\n",
    "        \"\"\"        \n",
    "        # i,j goes to j,n-i+1\n",
    "        n = len(matrix)\n",
    "        def rotate(i, j, n):\n",
    "            return (j, n-1-i)\n",
    "        \n",
    "        for i in range(n//2):\n",
    "            for j in range(i, n-1-i):\n",
    "                ai, aj = rotate(i, j, n)\n",
    "                bi, bj = rotate(ai, aj, n)\n",
    "                ci, cj = rotate(bi, bj, n)\n",
    "                \n",
    "                matrix[ai][aj], matrix[bi][bj], matrix[ci][cj], matrix[i][j] = \\\n",
    "                    matrix[i][j], matrix[ai][aj], matrix[bi][bj], matrix[ci][cj]"
   ]
  },
  {
   "cell_type": "code",
   "execution_count": 2,
   "metadata": {},
   "outputs": [
    {
     "name": "stdout",
     "output_type": "stream",
     "text": [
      "Before:\n",
      " 1\n",
      "After:\n",
      " 1 \n",
      "\n",
      "Before:\n",
      " 1\t2\n",
      " 3\t4\n",
      "After:\n",
      " 3\t1\n",
      " 4\t2 \n",
      "\n",
      "Before:\n",
      " 1\t2\t3\n",
      " 4\t5\t6\n",
      " 7\t8\t9\n",
      "After:\n",
      " 7\t4\t1\n",
      " 8\t5\t2\n",
      " 9\t6\t3 \n",
      "\n",
      "Before:\n",
      " 1\t2\t3\t4\n",
      " 5\t6\t7\t8\n",
      " 9\t10\t11\t12\n",
      " 13\t14\t15\t16\n",
      "After:\n",
      " 13\t9\t5\t1\n",
      " 14\t10\t6\t2\n",
      " 15\t11\t7\t3\n",
      " 16\t12\t8\t4 \n",
      "\n"
     ]
    }
   ],
   "source": [
    "s = Solution()\n",
    "input_matrix_1 = [[1]]\n",
    "input_matrix_2 = [[1, 2], [3, 4]]\n",
    "input_matrix_3 = [[1, 2, 3], [4, 5, 6], [7, 8, 9]]\n",
    "input_matrix_4 = [[1, 2, 3, 4], [5, 6, 7, 8], \n",
    "                  [9, 10, 11, 12], [13, 14, 15, 16]]\n",
    "testcases = [input_matrix_1, input_matrix_2, input_matrix_3,\n",
    "             input_matrix_4]\n",
    "\n",
    "def nice_print(matrix):\n",
    "    return '\\n '.join(['\\t'.join([str(cell) for cell in row])\n",
    "                      for row in matrix])\n",
    "\n",
    "for input_matrix in testcases:\n",
    "    print(\"Before:\\n\", nice_print(input_matrix))\n",
    "    s.rotate(input_matrix)\n",
    "    print(\"After:\\n\", nice_print(input_matrix), \"\\n\")"
   ]
  },
  {
   "cell_type": "code",
   "execution_count": null,
   "metadata": {
    "collapsed": true
   },
   "outputs": [],
   "source": []
  }
 ],
 "metadata": {
  "kernelspec": {
   "display_name": "Python 3",
   "language": "python",
   "name": "python3"
  },
  "language_info": {
   "codemirror_mode": {
    "name": "ipython",
    "version": 3
   },
   "file_extension": ".py",
   "mimetype": "text/x-python",
   "name": "python",
   "nbconvert_exporter": "python",
   "pygments_lexer": "ipython3",
   "version": "3.6.1"
  }
 },
 "nbformat": 4,
 "nbformat_minor": 2
}
