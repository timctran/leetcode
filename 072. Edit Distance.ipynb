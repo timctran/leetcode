{
 "cells": [
  {
   "cell_type": "markdown",
   "metadata": {},
   "source": [
    "Given two words word1 and word2, find the minimum number of operations required to convert word1 to word2.\n",
    "\n",
    "You have the following 3 operations permitted on a word:\n",
    "\n",
    "- Insert a character\n",
    "- Delete a character\n",
    "- Replace a character"
   ]
  },
  {
   "cell_type": "markdown",
   "metadata": {},
   "source": [
    "I previously read the solution for this problem. However, here I have answered it without looking at the solution.\n",
    "\n",
    "Assuming the solution to this problem is similar to others like it, let's define D(i, j) as the minimum number of operations to convert word1[:i] to word2[:j].\n",
    "\n",
    "While I think one often starts with operations to come up with transition between the states, in this case it was easier for me to think about the different states and how one might transition between adjacent states.\n",
    "\n",
    "How can we go from i,j to i,j+1? We need an extra letter. Can do it with insertion. Plus 1 operation.\n",
    "\n",
    "How can we go from i,j to i+1,j? We have a new letter to use. But we actually can't use it. We have to delete a character.\n",
    "\n",
    "How can we go from i,j to i+1,j+1? Both segments have an extra letter, word1[i] and word2[j]. If they're the same then we don't do anything (the minimum number of operations remains the same). If they're different then we can use replace (the minimum number of operations increases by one)."
   ]
  },
  {
   "cell_type": "code",
   "execution_count": 62,
   "metadata": {},
   "outputs": [],
   "source": [
    "try:\n",
    "    from helperfunctions import printmatrix\n",
    "except:\n",
    "    pass\n",
    "\n",
    "class Solution:\n",
    "    def minDistance(self, word1: str, word2: str) -> int:\n",
    "        m = len(word1)\n",
    "        n = len(word2)\n",
    "        D = [[i]+[0]*n for i in range(m)] + [[m]+[0]*n]\n",
    "        D[0] = [i for i in range(n+1)]\n",
    "        \n",
    "        for i in range(m):\n",
    "            for j in range(n):\n",
    "                min_by_insertion = D[i+1][j] + 1\n",
    "                min_by_deletion = D[i][j+1] + 1\n",
    "                min_by_replacement = D[i][j] + (0 if word1[i] == word2[j] else 1)\n",
    "                D[i+1][j+1] = min(min_by_insertion, min_by_deletion, min_by_replacement)\n",
    "                print(i+1, j+1, min_by_insertion, min_by_deletion, min_by_replacement)\n",
    "        \n",
    "        try:\n",
    "            printmatrix(D)\n",
    "        except:\n",
    "            print(D)\n",
    "            \n",
    "        return D[-1][-1]"
   ]
  },
  {
   "cell_type": "markdown",
   "metadata": {},
   "source": [
    "As seen in my other solutions to DP problems, one can also store just two rows at a time instead of populating the entire m by n matrix."
   ]
  },
  {
   "cell_type": "code",
   "execution_count": 68,
   "metadata": {},
   "outputs": [],
   "source": [
    "class Solution:\n",
    "    def minDistance(self, word1: str, word2: str) -> int:\n",
    "        D = [i for i in range(len(word2)+1)]\n",
    "\n",
    "        for i, word1_char in enumerate(word1):\n",
    "            D_new = [i+1]\n",
    "            for j, word2_char in enumerate(word2):\n",
    "                min_by_insertion = D_new[j] + 1\n",
    "                min_by_deletion = D[j+1] + 1\n",
    "                min_by_replacement = D[j] + (1 if word1_char != word2_char else 0)\n",
    "                D_new.append(min(min_by_insertion, min_by_deletion, min_by_replacement))\n",
    "            D = D_new\n",
    "            \n",
    "        return D[-1]"
   ]
  },
  {
   "cell_type": "markdown",
   "metadata": {},
   "source": [
    "# Comments\n",
    "\n",
    "In my head I know that one can know the upperbound on insertions, deletions, and replacements.\n",
    "\n",
    "Without loss of generality, word1 is shorter than or equal to word2 (because going from word1 to word2 takes the same number of steps as going from word2 to word1, just reverse the operations).\n",
    "\n",
    "So if their lengths are m and n, respectively, then we could make n-m insertions and m replacements. So an upperbound for the minimum number of replacements is n.\n",
    "\n",
    "The way one reduces replacements is either when letters match up via the insertions and in some cases by using a delete-and-insert pair. Thus the bound on the number of pairs is bounded by half of m.\n",
    "\n",
    "Summarizing, the_number_of_replacements <= m, the number_of_deletions <= m//2, and the number_of_insertions <= (n-m)+m//2.\n",
    "\n",
    "Thus in a given row we would essentially be concerned with computations from (approximately) i - (m//2) to i + (n-m)+m//2 but truncated to fit between existing indices, e.g., max(0, i-(m//2)) and min(n, i+(n-m)+m//2).\n",
    "\n",
    "Separately what are special cases. If word1 is length 0 then we know the answer is n. If the word1 is length 1, then the answer is n-1 if the letter is in the second word, otherwise n by making a replacement."
   ]
  },
  {
   "cell_type": "markdown",
   "metadata": {},
   "source": [
    "# Testcases"
   ]
  },
  {
   "cell_type": "code",
   "execution_count": 69,
   "metadata": {},
   "outputs": [],
   "source": [
    "s = Solution()"
   ]
  },
  {
   "cell_type": "code",
   "execution_count": 70,
   "metadata": {},
   "outputs": [
    {
     "data": {
      "text/plain": [
       "4"
      ]
     },
     "execution_count": 70,
     "metadata": {},
     "output_type": "execute_result"
    }
   ],
   "source": [
    "s.minDistance(\"ros\", \"horsey\")"
   ]
  },
  {
   "cell_type": "code",
   "execution_count": 71,
   "metadata": {},
   "outputs": [
    {
     "data": {
      "text/plain": [
       "0"
      ]
     },
     "execution_count": 71,
     "metadata": {},
     "output_type": "execute_result"
    }
   ],
   "source": [
    "s.minDistance(\"\", \"\")"
   ]
  },
  {
   "cell_type": "code",
   "execution_count": 72,
   "metadata": {},
   "outputs": [
    {
     "data": {
      "text/plain": [
       "0"
      ]
     },
     "execution_count": 72,
     "metadata": {},
     "output_type": "execute_result"
    }
   ],
   "source": [
    "s.minDistance(\"horse\", \"horse\")"
   ]
  },
  {
   "cell_type": "code",
   "execution_count": 73,
   "metadata": {},
   "outputs": [
    {
     "data": {
      "text/plain": [
       "3"
      ]
     },
     "execution_count": 73,
     "metadata": {},
     "output_type": "execute_result"
    }
   ],
   "source": [
    "s.minDistance(\"\", \"ros\")"
   ]
  },
  {
   "cell_type": "code",
   "execution_count": 74,
   "metadata": {},
   "outputs": [
    {
     "data": {
      "text/plain": [
       "5"
      ]
     },
     "execution_count": 74,
     "metadata": {},
     "output_type": "execute_result"
    }
   ],
   "source": [
    "s.minDistance(\"horse\", \"\")"
   ]
  },
  {
   "cell_type": "code",
   "execution_count": 75,
   "metadata": {},
   "outputs": [
    {
     "data": {
      "text/plain": [
       "2"
      ]
     },
     "execution_count": 75,
     "metadata": {},
     "output_type": "execute_result"
    }
   ],
   "source": [
    "s.minDistance(\"aexcellent\", \"excellenta\")"
   ]
  },
  {
   "cell_type": "code",
   "execution_count": 76,
   "metadata": {},
   "outputs": [
    {
     "data": {
      "text/plain": [
       "3"
      ]
     },
     "execution_count": 76,
     "metadata": {},
     "output_type": "execute_result"
    }
   ],
   "source": [
    "s.minDistance(\"canexcellent\", \"excellent\")"
   ]
  },
  {
   "cell_type": "code",
   "execution_count": 77,
   "metadata": {},
   "outputs": [
    {
     "data": {
      "text/plain": [
       "7"
      ]
     },
     "execution_count": 77,
     "metadata": {},
     "output_type": "execute_result"
    }
   ],
   "source": [
    "s.minDistance(\"abwbebsbobmbe\", \"awesomef\")"
   ]
  },
  {
   "cell_type": "code",
   "execution_count": null,
   "metadata": {},
   "outputs": [],
   "source": []
  },
  {
   "cell_type": "code",
   "execution_count": null,
   "metadata": {},
   "outputs": [],
   "source": []
  }
 ],
 "metadata": {
  "kernelspec": {
   "display_name": "Python 3.8 for Leetcode",
   "language": "python",
   "name": "leetcode"
  },
  "language_info": {
   "codemirror_mode": {
    "name": "ipython",
    "version": 3
   },
   "file_extension": ".py",
   "mimetype": "text/x-python",
   "name": "python",
   "nbconvert_exporter": "python",
   "pygments_lexer": "ipython3",
   "version": "3.8.1"
  }
 },
 "nbformat": 4,
 "nbformat_minor": 4
}
