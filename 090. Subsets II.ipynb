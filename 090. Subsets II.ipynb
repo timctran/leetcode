{
 "cells": [
  {
   "cell_type": "markdown",
   "metadata": {},
   "source": [
    "Given a collection of integers that might contain duplicates, nums, return all possible subsets (the power set).\n",
    "\n",
    "Note: The solution set must not contain duplicate subsets."
   ]
  },
  {
   "cell_type": "markdown",
   "metadata": {},
   "source": [
    "I previously solved 078. Subsets and this requires a modification of that solution.\n",
    "\n",
    "Essentially, instead of thinking of each number as appearing or not, we can count the number of times the number has appeared and how many times we'd like it to appear.\n",
    "\n",
    "For example, consider the list `[1, 2, 2, 2, 3, 3, 4]`. The number 1 appears once, the number 2 appears 3 times, the number 3 appears twice, and the number 4 appears once. Thus in any subset, number 1 can appear 0 or 1 time, number 2 can appear 0, 1, 2, or 3 times, and so on. In total there will be `2*4*3*2` subsets. Note that if we require that each number in the list is unique, then we recover the original problem with `2**n` subsets."
   ]
  },
  {
   "cell_type": "code",
   "execution_count": 4,
   "metadata": {
    "collapsed": true
   },
   "outputs": [],
   "source": [
    "from collections import Counter\n",
    "\n",
    "class Solution:\n",
    "    def subsets(self, nums):\n",
    "        res = [[]]\n",
    "        c = Counter(nums)\n",
    "        for i, (num, count) in enumerate(c.items()):\n",
    "            n = len(res)\n",
    "            for j in range(n):\n",
    "                for k in range(1, count+1):\n",
    "                    res.append(list(res[j])+[num]*k)\n",
    "                    \n",
    "        return res"
   ]
  },
  {
   "cell_type": "markdown",
   "metadata": {},
   "source": [
    "Thinking about the slow run time. I supposed it would reduce the growth at each step by starting with those items with the smallest counts first."
   ]
  },
  {
   "cell_type": "code",
   "execution_count": 5,
   "metadata": {
    "collapsed": true
   },
   "outputs": [],
   "source": [
    "from collections import Counter\n",
    "\n",
    "class SolutionExtraSort:\n",
    "    def subsets(self, nums):\n",
    "        res = [[]]\n",
    "        c = Counter(nums)\n",
    "        for i, (num, count) in enumerate(sorted(c.items(), key = lambda x: x[1])):\n",
    "            n = len(res)\n",
    "            for j in range(n):\n",
    "                for k in range(1, count+1):\n",
    "                    res.append(list(res[j])+[num]*k)\n",
    "                    \n",
    "        return res"
   ]
  },
  {
   "cell_type": "markdown",
   "metadata": {},
   "source": [
    "# Comparing Run Time of the Two Solutions\n",
    "\n",
    "We compare the runtimes for the two solutions across 10 random lists of length 30."
   ]
  },
  {
   "cell_type": "code",
   "execution_count": 33,
   "metadata": {
    "collapsed": true
   },
   "outputs": [],
   "source": [
    "from random import randint\n",
    "tests = [[randint(0, 10) for i in range (30)] for i in range(10)]"
   ]
  },
  {
   "cell_type": "code",
   "execution_count": 34,
   "metadata": {},
   "outputs": [
    {
     "name": "stdout",
     "output_type": "stream",
     "text": [
      "4.26 s ± 50.4 ms per loop (mean ± std. dev. of 7 runs, 1 loop each)\n"
     ]
    }
   ],
   "source": [
    "%%timeit\n",
    "s2 = Solution()\n",
    "[s2.subsets(test) for test in tests]"
   ]
  },
  {
   "cell_type": "code",
   "execution_count": 35,
   "metadata": {},
   "outputs": [
    {
     "name": "stdout",
     "output_type": "stream",
     "text": [
      "3.47 s ± 31.6 ms per loop (mean ± std. dev. of 7 runs, 1 loop each)\n"
     ]
    }
   ],
   "source": [
    "%%timeit\n",
    "s1 = SolutionExtraSort()\n",
    "[s1.subsets(test) for test in tests]"
   ]
  },
  {
   "cell_type": "code",
   "execution_count": 36,
   "metadata": {},
   "outputs": [
    {
     "name": "stdout",
     "output_type": "stream",
     "text": [
      "[518400, 967680, 480000, 1080000, 583200, 580608, 967680, 777600, 302400, 622080]\n",
      "[518400, 967680, 480000, 1080000, 583200, 580608, 967680, 777600, 302400, 622080]\n"
     ]
    }
   ],
   "source": [
    "print([len(s2.subsets(test)) for test in tests])\n",
    "print([len(s1.subsets(test)) for test in tests])"
   ]
  },
  {
   "cell_type": "markdown",
   "metadata": {},
   "source": [
    "Remark: on LeetCode the first had runtime 36 ms (and memory 13.2 MB) while the second solution with the sort had runtime 28 ms (and the same memory usage) - \"faster than 96.42% of Python3 online submissions.\""
   ]
  },
  {
   "cell_type": "markdown",
   "metadata": {},
   "source": [
    "# Test Cases"
   ]
  },
  {
   "cell_type": "code",
   "execution_count": 9,
   "metadata": {
    "collapsed": true
   },
   "outputs": [],
   "source": [
    "s = Solution()"
   ]
  },
  {
   "cell_type": "code",
   "execution_count": 10,
   "metadata": {},
   "outputs": [
    {
     "name": "stdout",
     "output_type": "stream",
     "text": [
      "Input: []\n",
      "Output: [[]]\n",
      "Length: 1 \n",
      "\n",
      "Input: [1]\n",
      "Output: [[], [1]]\n",
      "Length: 2 \n",
      "\n",
      "Input: [1, 2]\n",
      "Output: [[], [1], [2], [1, 2]]\n",
      "Length: 4 \n",
      "\n",
      "Input: [1, 2, 3]\n",
      "Output: [[], [1], [2], [1, 2], [3], [1, 3], [2, 3], [1, 2, 3]]\n",
      "Length: 8 \n",
      "\n",
      "Input: [1, 2, 2]\n",
      "Output: [[], [1], [2], [2, 2], [1, 2], [1, 2, 2]]\n",
      "Length: 6 \n",
      "\n",
      "Input: [2, 2, 1]\n",
      "Output: [[], [1], [2], [2, 2], [1, 2], [1, 2, 2]]\n",
      "Length: 6 \n",
      "\n",
      "Input: [1, 1]\n",
      "Output: [[], [1], [1, 1]]\n",
      "Length: 3 \n",
      "\n",
      "Input: [1, 1, 2, 2, 3, 3, 3, 4]\n",
      "Output: [[], [4], [1], [1, 1], [4, 1], [4, 1, 1], [2], [2, 2], [4, 2], [4, 2, 2], [1, 2], [1, 2, 2], [1, 1, 2], [1, 1, 2, 2], [4, 1, 2], [4, 1, 2, 2], [4, 1, 1, 2], [4, 1, 1, 2, 2], [3], [3, 3], [3, 3, 3], [4, 3], [4, 3, 3], [4, 3, 3, 3], [1, 3], [1, 3, 3], [1, 3, 3, 3], [1, 1, 3], [1, 1, 3, 3], [1, 1, 3, 3, 3], [4, 1, 3], [4, 1, 3, 3], [4, 1, 3, 3, 3], [4, 1, 1, 3], [4, 1, 1, 3, 3], [4, 1, 1, 3, 3, 3], [2, 3], [2, 3, 3], [2, 3, 3, 3], [2, 2, 3], [2, 2, 3, 3], [2, 2, 3, 3, 3], [4, 2, 3], [4, 2, 3, 3], [4, 2, 3, 3, 3], [4, 2, 2, 3], [4, 2, 2, 3, 3], [4, 2, 2, 3, 3, 3], [1, 2, 3], [1, 2, 3, 3], [1, 2, 3, 3, 3], [1, 2, 2, 3], [1, 2, 2, 3, 3], [1, 2, 2, 3, 3, 3], [1, 1, 2, 3], [1, 1, 2, 3, 3], [1, 1, 2, 3, 3, 3], [1, 1, 2, 2, 3], [1, 1, 2, 2, 3, 3], [1, 1, 2, 2, 3, 3, 3], [4, 1, 2, 3], [4, 1, 2, 3, 3], [4, 1, 2, 3, 3, 3], [4, 1, 2, 2, 3], [4, 1, 2, 2, 3, 3], [4, 1, 2, 2, 3, 3, 3], [4, 1, 1, 2, 3], [4, 1, 1, 2, 3, 3], [4, 1, 1, 2, 3, 3, 3], [4, 1, 1, 2, 2, 3], [4, 1, 1, 2, 2, 3, 3], [4, 1, 1, 2, 2, 3, 3, 3]]\n",
      "Length: 72 \n",
      "\n"
     ]
    }
   ],
   "source": [
    "for nums in [[], [1], [1,2], [1,2,3], [1, 2, 2], [2, 2, 1], [1, 1], [1, 1, 2, 2, 3, 3, 3, 4]]:\n",
    "    print(\"Input:\", nums)\n",
    "    output = s.subsets(nums)\n",
    "    print(\"Output:\", output)\n",
    "    print(\"Length:\", len(output), \"\\n\")"
   ]
  },
  {
   "cell_type": "code",
   "execution_count": null,
   "metadata": {
    "collapsed": true
   },
   "outputs": [],
   "source": []
  }
 ],
 "metadata": {
  "kernelspec": {
   "display_name": "Python 3",
   "language": "python",
   "name": "python3"
  },
  "language_info": {
   "codemirror_mode": {
    "name": "ipython",
    "version": 3
   },
   "file_extension": ".py",
   "mimetype": "text/x-python",
   "name": "python",
   "nbconvert_exporter": "python",
   "pygments_lexer": "ipython3",
   "version": "3.6.1"
  }
 },
 "nbformat": 4,
 "nbformat_minor": 2
}
