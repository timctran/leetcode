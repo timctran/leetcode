{
 "cells": [
  {
   "cell_type": "markdown",
   "metadata": {},
   "source": [
    "Given a triangle, find the minimum path sum from top to bottom. Each step you may move to adjacent numbers on the row below."
   ]
  },
  {
   "cell_type": "code",
   "execution_count": 33,
   "metadata": {},
   "outputs": [],
   "source": [
    "class Solution:\n",
    "    def minimumTotal(self, triangle) -> int:\n",
    "        for i, row in enumerate(triangle):\n",
    "            try:\n",
    "                for j, cell in enumerate(row):\n",
    "                    if j == 0:\n",
    "                        triangle[i+1][j] += cell\n",
    "                    else:\n",
    "                        triangle[i+1][j] += min(cell, row[j-1])\n",
    "                    if j == i:\n",
    "                        triangle[i+1][j+1] += cell\n",
    "            except:\n",
    "                pass\n",
    "            \n",
    "        return min(triangle[-1])"
   ]
  },
  {
   "cell_type": "markdown",
   "metadata": {},
   "source": [
    "My the idea for my first solution started at the top of the triangle and worked its way down. The solution is above.\n",
    "\n",
    "60 ms, faster than 68.10%. 13.6 MB, less than 53.33%\n",
    "\n",
    "I later read two solutions that went from the bottom up. The solutions below are variations of those solutions."
   ]
  },
  {
   "cell_type": "code",
   "execution_count": 5,
   "metadata": {},
   "outputs": [],
   "source": [
    "class Solution:\n",
    "    def minimumTotal(self, triangle) -> int:\n",
    "        while(len(triangle)>1):\n",
    "            x = triangle.pop()\n",
    "            for i in range(len(triangle[-1])):\n",
    "                triangle[-1][i] += min(x[i], x[i+1])\n",
    "        \n",
    "        return triangle[0][0]"
   ]
  },
  {
   "cell_type": "markdown",
   "metadata": {},
   "source": [
    "52 ms, faster than 96.46%. 13.6 MB, less than 46.67%"
   ]
  },
  {
   "cell_type": "code",
   "execution_count": 15,
   "metadata": {},
   "outputs": [],
   "source": [
    "class Solution:\n",
    "    def minimumTotal(self, triangle) -> int:\n",
    "        for i, row in enumerate(triangle[::-1]):\n",
    "            i = len(triangle)-i-1\n",
    "            for j, cell in enumerate(row):\n",
    "                try:\n",
    "                    triangle[i-1][j] += min(cell, row[j+1])\n",
    "                except:\n",
    "                    pass\n",
    "        \n",
    "        return triangle[0][0]"
   ]
  },
  {
   "cell_type": "markdown",
   "metadata": {},
   "source": [
    "60 ms, faster than 68.10%. 13.7 MB, less than 26.67%"
   ]
  },
  {
   "cell_type": "code",
   "execution_count": 34,
   "metadata": {},
   "outputs": [],
   "source": [
    "s = Solution()"
   ]
  },
  {
   "cell_type": "code",
   "execution_count": 35,
   "metadata": {},
   "outputs": [
    {
     "data": {
      "text/plain": [
       "11"
      ]
     },
     "execution_count": 35,
     "metadata": {},
     "output_type": "execute_result"
    }
   ],
   "source": [
    "T = [\n",
    "     [2],\n",
    "    [3,4],\n",
    "   [6,5,7],\n",
    "  [4,1,8,3]\n",
    "]\n",
    "s.minimumTotal(T)"
   ]
  },
  {
   "cell_type": "code",
   "execution_count": 36,
   "metadata": {},
   "outputs": [
    {
     "data": {
      "text/plain": [
       "2"
      ]
     },
     "execution_count": 36,
     "metadata": {},
     "output_type": "execute_result"
    }
   ],
   "source": [
    "T = [[2]]\n",
    "s.minimumTotal(T)"
   ]
  },
  {
   "cell_type": "code",
   "execution_count": 37,
   "metadata": {},
   "outputs": [
    {
     "data": {
      "text/plain": [
       "12"
      ]
     },
     "execution_count": 37,
     "metadata": {},
     "output_type": "execute_result"
    }
   ],
   "source": [
    "T = [\n",
    "     [2],\n",
    "    [3,4],\n",
    "   [6,100,7],\n",
    "  [4,1,8,3]\n",
    "]\n",
    "s.minimumTotal(T)"
   ]
  },
  {
   "cell_type": "code",
   "execution_count": 38,
   "metadata": {},
   "outputs": [
    {
     "data": {
      "text/plain": [
       "16"
      ]
     },
     "execution_count": 38,
     "metadata": {},
     "output_type": "execute_result"
    }
   ],
   "source": [
    "T = [\n",
    "     [2],\n",
    "    [3,4],\n",
    "   [6,100,7],\n",
    "  [5,10,10,3]\n",
    "]\n",
    "s.minimumTotal(T)"
   ]
  },
  {
   "cell_type": "code",
   "execution_count": 39,
   "metadata": {},
   "outputs": [
    {
     "data": {
      "text/plain": [
       "9"
      ]
     },
     "execution_count": 39,
     "metadata": {},
     "output_type": "execute_result"
    }
   ],
   "source": [
    "T = [\n",
    "     [2],\n",
    "    [3,4],\n",
    "   [6,1,7],\n",
    "  [5,1,10,3],\n",
    " [1,2,4,6,12]\n",
    "]\n",
    "s.minimumTotal(T)"
   ]
  },
  {
   "cell_type": "code",
   "execution_count": null,
   "metadata": {},
   "outputs": [],
   "source": []
  }
 ],
 "metadata": {
  "kernelspec": {
   "display_name": "Python 3.8 for Leetcode",
   "language": "python",
   "name": "leetcode"
  },
  "language_info": {
   "codemirror_mode": {
    "name": "ipython",
    "version": 3
   },
   "file_extension": ".py",
   "mimetype": "text/x-python",
   "name": "python",
   "nbconvert_exporter": "python",
   "pygments_lexer": "ipython3",
   "version": "3.8.1"
  }
 },
 "nbformat": 4,
 "nbformat_minor": 4
}
