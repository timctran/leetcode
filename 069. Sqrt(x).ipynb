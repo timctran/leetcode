{
 "cells": [
  {
   "cell_type": "markdown",
   "metadata": {},
   "source": [
    "Implement int sqrt(int x).\n",
    "\n",
    "Compute and return the square root of x, where x is guaranteed to be a non-negative integer.\n",
    "\n",
    "Since the return type is an integer, the decimal digits are truncated and only the integer part of the result is returned."
   ]
  },
  {
   "cell_type": "code",
   "execution_count": 31,
   "metadata": {
    "collapsed": true
   },
   "outputs": [],
   "source": [
    "class Solution:\n",
    "    def mySqrt(self, x: int) -> int:\n",
    "        if x == 0:\n",
    "            return 0\n",
    "        elif x < 4:\n",
    "            return 1\n",
    "        elif x < 9:\n",
    "            return 2\n",
    "        \n",
    "        # For values x >= 9 we can prove (x/2)**2 > x.\n",
    "        \n",
    "        l = 1\n",
    "        r = x//2\n",
    "        \n",
    "        while (l+1 < r):\n",
    "            m = (l+r)//2\n",
    "            m_squared = m**2\n",
    "            if m_squared > x:\n",
    "                r = m-1\n",
    "            elif m_squared < x:\n",
    "                l = m\n",
    "            else:\n",
    "                return m\n",
    "        \n",
    "        if r**2 <= x:\n",
    "            return r\n",
    "        else:\n",
    "            return l"
   ]
  },
  {
   "cell_type": "markdown",
   "metadata": {},
   "source": [
    "Runtime: 44 ms, faster than 28.66% of Python3 online submissions for Sqrt(x).  \n",
    "Memory Usage: 13.8 MB, less than 6.45% of Python3 online submissions for Sqrt(x)."
   ]
  },
  {
   "cell_type": "code",
   "execution_count": 34,
   "metadata": {
    "collapsed": true
   },
   "outputs": [],
   "source": [
    "class Solution:\n",
    "    def mySqrt(self, x: int) -> int:        \n",
    "        l = 0\n",
    "        r = x\n",
    "        \n",
    "        while (l+1 < r):\n",
    "            m = (l+r)//2\n",
    "            m_squared = m**2\n",
    "            if m_squared > x:\n",
    "                r = m-1\n",
    "            elif m_squared < x:\n",
    "                l = m\n",
    "            else:\n",
    "                return m\n",
    "        \n",
    "        if r**2 <= x:\n",
    "            return r\n",
    "        else:\n",
    "            return l"
   ]
  },
  {
   "cell_type": "markdown",
   "metadata": {},
   "source": [
    "Runtime: 44 ms, faster than 28.66% of Python3 online submissions for Sqrt(x).  \n",
    "Memory Usage: 13.6 MB, less than 6.45% of Python3 online submissions for Sqrt(x)."
   ]
  },
  {
   "cell_type": "markdown",
   "metadata": {},
   "source": [
    "# Test Cases"
   ]
  },
  {
   "cell_type": "code",
   "execution_count": 50,
   "metadata": {},
   "outputs": [],
   "source": [
    "import math\n",
    "\n",
    "s = Solution()\n",
    "for i in range(10000):\n",
    "    assert s.mySqrt(i) == math.floor(math.sqrt(i)), i"
   ]
  },
  {
   "cell_type": "markdown",
   "metadata": {},
   "source": [
    "# Old Linear Solution\n",
    "\n",
    "I wrote a solution in a file dated 7/22/2014. The solution has time 6:05 PM.\n",
    "\n",
    "In the text file, I mention in passing that we can do a binary search instead of a brute force search.\n",
    "\n",
    "I think the solution is \"fun\" because it determines the square of a number `n` by adding `2*n-1` to the square of `n-1`, which is `n**2 - 2*n + 1`.\n",
    "\n",
    "The solution was slightly wrong and tweaked it today until it worked. I also submitted it on LeetCode just to see how poorly it runs."
   ]
  },
  {
   "cell_type": "code",
   "execution_count": 51,
   "metadata": {},
   "outputs": [],
   "source": [
    "class Solution:\n",
    "    def mySqrt(self, x):\n",
    "        b = 0\n",
    "        bSquared = 0\n",
    "        while (bSquared < x):\n",
    "            b += 1\n",
    "            bSquared += 2*b-1\n",
    "            \n",
    "        return b if bSquared == x else b-1"
   ]
  },
  {
   "cell_type": "markdown",
   "metadata": {},
   "source": [
    "Runtime: 5832 ms, faster than 5.00% of Python3 online submissions for Sqrt(x).  \n",
    "Memory Usage: 14 MB, less than 6.45% of Python3 online submissions for Sqrt(x)."
   ]
  },
  {
   "cell_type": "code",
   "execution_count": null,
   "metadata": {
    "collapsed": true
   },
   "outputs": [],
   "source": []
  }
 ],
 "metadata": {
  "kernelspec": {
   "display_name": "Python 3",
   "language": "python",
   "name": "python3"
  },
  "language_info": {
   "codemirror_mode": {
    "name": "ipython",
    "version": 3
   },
   "file_extension": ".py",
   "mimetype": "text/x-python",
   "name": "python",
   "nbconvert_exporter": "python",
   "pygments_lexer": "ipython3",
   "version": "3.6.1"
  }
 },
 "nbformat": 4,
 "nbformat_minor": 2
}
