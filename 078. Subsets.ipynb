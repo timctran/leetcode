{
 "cells": [
  {
   "cell_type": "markdown",
   "metadata": {},
   "source": [
    "Given a set of distinct integers, nums, return all possible subsets (the power set).\n",
    "\n",
    "Note: The solution set must not contain duplicate subsets."
   ]
  },
  {
   "cell_type": "markdown",
   "metadata": {},
   "source": [
    "My intuition for the solution came from the fact that the power set has size `2**n` where `n` is the number of elements in the set. That's because each subset either contains an element or it doesn't. Viewed differently, the powerset using `j+1` elements, `P(j+1)` can be formed by knowing the powerset of the first `j` elements, `P(j)`: for each element in `P(j)`, we either add or don't add the `j+1`th element."
   ]
  },
  {
   "cell_type": "code",
   "execution_count": 1,
   "metadata": {},
   "outputs": [],
   "source": [
    "class Solution:\n",
    "    def subsets(self, nums):\n",
    "        res = [[]]\n",
    "        for i, num in enumerate(nums):\n",
    "            n = len(res)\n",
    "            for j in range(n):\n",
    "                res.append(list(res[j])+[num])\n",
    "        \n",
    "        return res"
   ]
  },
  {
   "cell_type": "code",
   "execution_count": 2,
   "metadata": {
    "collapsed": true
   },
   "outputs": [],
   "source": [
    "s = Solution()"
   ]
  },
  {
   "cell_type": "code",
   "execution_count": 3,
   "metadata": {},
   "outputs": [
    {
     "name": "stdout",
     "output_type": "stream",
     "text": [
      "Input: []\n",
      "Output: [[]] \n",
      "\n",
      "Input: [1]\n",
      "Output: [[], [1]] \n",
      "\n",
      "Input: [1, 2]\n",
      "Output: [[], [1], [2], [1, 2]] \n",
      "\n",
      "Input: [1, 2, 3]\n",
      "Output: [[], [1], [2], [1, 2], [3], [1, 3], [2, 3], [1, 2, 3]] \n",
      "\n"
     ]
    }
   ],
   "source": [
    "for nums in [[], [1], [1,2], [1,2,3]]:\n",
    "    print(\"Input:\", nums)\n",
    "    print(\"Output:\", s.subsets(nums), \"\\n\")"
   ]
  },
  {
   "cell_type": "code",
   "execution_count": null,
   "metadata": {
    "collapsed": true
   },
   "outputs": [],
   "source": []
  }
 ],
 "metadata": {
  "kernelspec": {
   "display_name": "Python 3",
   "language": "python",
   "name": "python3"
  },
  "language_info": {
   "codemirror_mode": {
    "name": "ipython",
    "version": 3
   },
   "file_extension": ".py",
   "mimetype": "text/x-python",
   "name": "python",
   "nbconvert_exporter": "python",
   "pygments_lexer": "ipython3",
   "version": "3.6.1"
  }
 },
 "nbformat": 4,
 "nbformat_minor": 2
}
